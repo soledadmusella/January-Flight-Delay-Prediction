{
 "cells": [
  {
   "cell_type": "markdown",
   "metadata": {},
   "source": [
    "# JANUARY FLIGHT DELAY PREDICTION"
   ]
  },
  {
   "cell_type": "code",
   "execution_count": 1,
   "metadata": {
    "ExecuteTime": {
     "end_time": "2020-07-02T11:54:09.065663Z",
     "start_time": "2020-07-02T11:54:07.847029Z"
    }
   },
   "outputs": [],
   "source": [
    "%matplotlib inline\n",
    "import pandas as pd\n",
    "import numpy as np\n",
    "from scipy import stats\n",
    "import seaborn as sns\n",
    "import matplotlib.pyplot as plt\n",
    "from matplotlib import pyplot"
   ]
  },
  {
   "cell_type": "code",
   "execution_count": 2,
   "metadata": {
    "ExecuteTime": {
     "end_time": "2020-07-02T11:54:10.884020Z",
     "start_time": "2020-07-02T11:54:09.067950Z"
    }
   },
   "outputs": [],
   "source": [
    "flights_january_2019 = pd.read_csv(\"/Users/soledadmusella/Desktop/january/Jan_2019.csv\")"
   ]
  },
  {
   "cell_type": "code",
   "execution_count": 3,
   "metadata": {
    "ExecuteTime": {
     "end_time": "2020-07-02T11:54:10.940776Z",
     "start_time": "2020-07-02T11:54:10.888747Z"
    }
   },
   "outputs": [
    {
     "data": {
      "text/html": [
       "<div>\n",
       "<style scoped>\n",
       "    .dataframe tbody tr th:only-of-type {\n",
       "        vertical-align: middle;\n",
       "    }\n",
       "\n",
       "    .dataframe tbody tr th {\n",
       "        vertical-align: top;\n",
       "    }\n",
       "\n",
       "    .dataframe thead th {\n",
       "        text-align: right;\n",
       "    }\n",
       "</style>\n",
       "<table border=\"1\" class=\"dataframe\">\n",
       "  <thead>\n",
       "    <tr style=\"text-align: right;\">\n",
       "      <th></th>\n",
       "      <th>DAY_OF_MONTH</th>\n",
       "      <th>DAY_OF_WEEK</th>\n",
       "      <th>OP_UNIQUE_CARRIER</th>\n",
       "      <th>OP_CARRIER_AIRLINE_ID</th>\n",
       "      <th>OP_CARRIER</th>\n",
       "      <th>TAIL_NUM</th>\n",
       "      <th>OP_CARRIER_FL_NUM</th>\n",
       "      <th>ORIGIN_AIRPORT_ID</th>\n",
       "      <th>ORIGIN_AIRPORT_SEQ_ID</th>\n",
       "      <th>ORIGIN</th>\n",
       "      <th>...</th>\n",
       "      <th>DEST</th>\n",
       "      <th>DEP_TIME</th>\n",
       "      <th>DEP_DEL15</th>\n",
       "      <th>DEP_TIME_BLK</th>\n",
       "      <th>ARR_TIME</th>\n",
       "      <th>ARR_DEL15</th>\n",
       "      <th>CANCELLED</th>\n",
       "      <th>DIVERTED</th>\n",
       "      <th>DISTANCE</th>\n",
       "      <th>Unnamed: 21</th>\n",
       "    </tr>\n",
       "  </thead>\n",
       "  <tbody>\n",
       "    <tr>\n",
       "      <th>0</th>\n",
       "      <td>1</td>\n",
       "      <td>2</td>\n",
       "      <td>9E</td>\n",
       "      <td>20363</td>\n",
       "      <td>9E</td>\n",
       "      <td>N8688C</td>\n",
       "      <td>3280</td>\n",
       "      <td>11953</td>\n",
       "      <td>1195302</td>\n",
       "      <td>GNV</td>\n",
       "      <td>...</td>\n",
       "      <td>ATL</td>\n",
       "      <td>601.0</td>\n",
       "      <td>0.0</td>\n",
       "      <td>0600-0659</td>\n",
       "      <td>722.0</td>\n",
       "      <td>0.0</td>\n",
       "      <td>0.0</td>\n",
       "      <td>0.0</td>\n",
       "      <td>300.0</td>\n",
       "      <td>NaN</td>\n",
       "    </tr>\n",
       "    <tr>\n",
       "      <th>1</th>\n",
       "      <td>1</td>\n",
       "      <td>2</td>\n",
       "      <td>9E</td>\n",
       "      <td>20363</td>\n",
       "      <td>9E</td>\n",
       "      <td>N348PQ</td>\n",
       "      <td>3281</td>\n",
       "      <td>13487</td>\n",
       "      <td>1348702</td>\n",
       "      <td>MSP</td>\n",
       "      <td>...</td>\n",
       "      <td>CVG</td>\n",
       "      <td>1359.0</td>\n",
       "      <td>0.0</td>\n",
       "      <td>1400-1459</td>\n",
       "      <td>1633.0</td>\n",
       "      <td>0.0</td>\n",
       "      <td>0.0</td>\n",
       "      <td>0.0</td>\n",
       "      <td>596.0</td>\n",
       "      <td>NaN</td>\n",
       "    </tr>\n",
       "    <tr>\n",
       "      <th>2</th>\n",
       "      <td>1</td>\n",
       "      <td>2</td>\n",
       "      <td>9E</td>\n",
       "      <td>20363</td>\n",
       "      <td>9E</td>\n",
       "      <td>N8896A</td>\n",
       "      <td>3282</td>\n",
       "      <td>11433</td>\n",
       "      <td>1143302</td>\n",
       "      <td>DTW</td>\n",
       "      <td>...</td>\n",
       "      <td>CVG</td>\n",
       "      <td>1215.0</td>\n",
       "      <td>0.0</td>\n",
       "      <td>1200-1259</td>\n",
       "      <td>1329.0</td>\n",
       "      <td>0.0</td>\n",
       "      <td>0.0</td>\n",
       "      <td>0.0</td>\n",
       "      <td>229.0</td>\n",
       "      <td>NaN</td>\n",
       "    </tr>\n",
       "    <tr>\n",
       "      <th>3</th>\n",
       "      <td>1</td>\n",
       "      <td>2</td>\n",
       "      <td>9E</td>\n",
       "      <td>20363</td>\n",
       "      <td>9E</td>\n",
       "      <td>N8886A</td>\n",
       "      <td>3283</td>\n",
       "      <td>15249</td>\n",
       "      <td>1524906</td>\n",
       "      <td>TLH</td>\n",
       "      <td>...</td>\n",
       "      <td>ATL</td>\n",
       "      <td>1521.0</td>\n",
       "      <td>0.0</td>\n",
       "      <td>1500-1559</td>\n",
       "      <td>1625.0</td>\n",
       "      <td>0.0</td>\n",
       "      <td>0.0</td>\n",
       "      <td>0.0</td>\n",
       "      <td>223.0</td>\n",
       "      <td>NaN</td>\n",
       "    </tr>\n",
       "    <tr>\n",
       "      <th>4</th>\n",
       "      <td>1</td>\n",
       "      <td>2</td>\n",
       "      <td>9E</td>\n",
       "      <td>20363</td>\n",
       "      <td>9E</td>\n",
       "      <td>N8974C</td>\n",
       "      <td>3284</td>\n",
       "      <td>10397</td>\n",
       "      <td>1039707</td>\n",
       "      <td>ATL</td>\n",
       "      <td>...</td>\n",
       "      <td>FSM</td>\n",
       "      <td>1847.0</td>\n",
       "      <td>0.0</td>\n",
       "      <td>1900-1959</td>\n",
       "      <td>1940.0</td>\n",
       "      <td>0.0</td>\n",
       "      <td>0.0</td>\n",
       "      <td>0.0</td>\n",
       "      <td>579.0</td>\n",
       "      <td>NaN</td>\n",
       "    </tr>\n",
       "  </tbody>\n",
       "</table>\n",
       "<p>5 rows × 22 columns</p>\n",
       "</div>"
      ],
      "text/plain": [
       "   DAY_OF_MONTH  DAY_OF_WEEK OP_UNIQUE_CARRIER  OP_CARRIER_AIRLINE_ID  \\\n",
       "0             1            2                9E                  20363   \n",
       "1             1            2                9E                  20363   \n",
       "2             1            2                9E                  20363   \n",
       "3             1            2                9E                  20363   \n",
       "4             1            2                9E                  20363   \n",
       "\n",
       "  OP_CARRIER TAIL_NUM  OP_CARRIER_FL_NUM  ORIGIN_AIRPORT_ID  \\\n",
       "0         9E   N8688C               3280              11953   \n",
       "1         9E   N348PQ               3281              13487   \n",
       "2         9E   N8896A               3282              11433   \n",
       "3         9E   N8886A               3283              15249   \n",
       "4         9E   N8974C               3284              10397   \n",
       "\n",
       "   ORIGIN_AIRPORT_SEQ_ID ORIGIN     ...       DEST  DEP_TIME DEP_DEL15  \\\n",
       "0                1195302    GNV     ...        ATL     601.0       0.0   \n",
       "1                1348702    MSP     ...        CVG    1359.0       0.0   \n",
       "2                1143302    DTW     ...        CVG    1215.0       0.0   \n",
       "3                1524906    TLH     ...        ATL    1521.0       0.0   \n",
       "4                1039707    ATL     ...        FSM    1847.0       0.0   \n",
       "\n",
       "   DEP_TIME_BLK  ARR_TIME ARR_DEL15  CANCELLED  DIVERTED  DISTANCE  \\\n",
       "0     0600-0659     722.0       0.0        0.0       0.0     300.0   \n",
       "1     1400-1459    1633.0       0.0        0.0       0.0     596.0   \n",
       "2     1200-1259    1329.0       0.0        0.0       0.0     229.0   \n",
       "3     1500-1559    1625.0       0.0        0.0       0.0     223.0   \n",
       "4     1900-1959    1940.0       0.0        0.0       0.0     579.0   \n",
       "\n",
       "   Unnamed: 21  \n",
       "0          NaN  \n",
       "1          NaN  \n",
       "2          NaN  \n",
       "3          NaN  \n",
       "4          NaN  \n",
       "\n",
       "[5 rows x 22 columns]"
      ]
     },
     "execution_count": 3,
     "metadata": {},
     "output_type": "execute_result"
    }
   ],
   "source": [
    "flights_january_2019.head()"
   ]
  },
  {
   "cell_type": "code",
   "execution_count": 4,
   "metadata": {
    "ExecuteTime": {
     "end_time": "2020-07-02T11:54:10.955472Z",
     "start_time": "2020-07-02T11:54:10.947727Z"
    }
   },
   "outputs": [
    {
     "data": {
      "text/plain": [
       "Index(['DAY_OF_MONTH', 'DAY_OF_WEEK', 'OP_UNIQUE_CARRIER',\n",
       "       'OP_CARRIER_AIRLINE_ID', 'OP_CARRIER', 'TAIL_NUM', 'OP_CARRIER_FL_NUM',\n",
       "       'ORIGIN_AIRPORT_ID', 'ORIGIN_AIRPORT_SEQ_ID', 'ORIGIN',\n",
       "       'DEST_AIRPORT_ID', 'DEST_AIRPORT_SEQ_ID', 'DEST', 'DEP_TIME',\n",
       "       'DEP_DEL15', 'DEP_TIME_BLK', 'ARR_TIME', 'ARR_DEL15', 'CANCELLED',\n",
       "       'DIVERTED', 'DISTANCE', 'Unnamed: 21'],\n",
       "      dtype='object')"
      ]
     },
     "execution_count": 4,
     "metadata": {},
     "output_type": "execute_result"
    }
   ],
   "source": [
    "flights_january_2019.columns"
   ]
  },
  {
   "cell_type": "code",
   "execution_count": 5,
   "metadata": {
    "ExecuteTime": {
     "end_time": "2020-07-02T11:54:10.966450Z",
     "start_time": "2020-07-02T11:54:10.958354Z"
    }
   },
   "outputs": [
    {
     "data": {
      "text/plain": [
       "(583985, 22)"
      ]
     },
     "execution_count": 5,
     "metadata": {},
     "output_type": "execute_result"
    }
   ],
   "source": [
    "flights_january_2019.shape"
   ]
  },
  {
   "cell_type": "code",
   "execution_count": 6,
   "metadata": {
    "ExecuteTime": {
     "end_time": "2020-07-02T11:54:12.921827Z",
     "start_time": "2020-07-02T11:54:10.969611Z"
    }
   },
   "outputs": [],
   "source": [
    "flights_january_2020 = pd.read_csv(\"/Users/soledadmusella/Desktop/january/Jan_2020.csv\")"
   ]
  },
  {
   "cell_type": "code",
   "execution_count": 7,
   "metadata": {
    "ExecuteTime": {
     "end_time": "2020-07-02T11:54:12.968041Z",
     "start_time": "2020-07-02T11:54:12.923648Z"
    }
   },
   "outputs": [
    {
     "data": {
      "text/html": [
       "<div>\n",
       "<style scoped>\n",
       "    .dataframe tbody tr th:only-of-type {\n",
       "        vertical-align: middle;\n",
       "    }\n",
       "\n",
       "    .dataframe tbody tr th {\n",
       "        vertical-align: top;\n",
       "    }\n",
       "\n",
       "    .dataframe thead th {\n",
       "        text-align: right;\n",
       "    }\n",
       "</style>\n",
       "<table border=\"1\" class=\"dataframe\">\n",
       "  <thead>\n",
       "    <tr style=\"text-align: right;\">\n",
       "      <th></th>\n",
       "      <th>DAY_OF_MONTH</th>\n",
       "      <th>DAY_OF_WEEK</th>\n",
       "      <th>OP_UNIQUE_CARRIER</th>\n",
       "      <th>OP_CARRIER_AIRLINE_ID</th>\n",
       "      <th>OP_CARRIER</th>\n",
       "      <th>TAIL_NUM</th>\n",
       "      <th>OP_CARRIER_FL_NUM</th>\n",
       "      <th>ORIGIN_AIRPORT_ID</th>\n",
       "      <th>ORIGIN_AIRPORT_SEQ_ID</th>\n",
       "      <th>ORIGIN</th>\n",
       "      <th>...</th>\n",
       "      <th>DEST</th>\n",
       "      <th>DEP_TIME</th>\n",
       "      <th>DEP_DEL15</th>\n",
       "      <th>DEP_TIME_BLK</th>\n",
       "      <th>ARR_TIME</th>\n",
       "      <th>ARR_DEL15</th>\n",
       "      <th>CANCELLED</th>\n",
       "      <th>DIVERTED</th>\n",
       "      <th>DISTANCE</th>\n",
       "      <th>Unnamed: 21</th>\n",
       "    </tr>\n",
       "  </thead>\n",
       "  <tbody>\n",
       "    <tr>\n",
       "      <th>0</th>\n",
       "      <td>1</td>\n",
       "      <td>3</td>\n",
       "      <td>EV</td>\n",
       "      <td>20366</td>\n",
       "      <td>EV</td>\n",
       "      <td>N48901</td>\n",
       "      <td>4397</td>\n",
       "      <td>13930</td>\n",
       "      <td>1393007</td>\n",
       "      <td>ORD</td>\n",
       "      <td>...</td>\n",
       "      <td>GRB</td>\n",
       "      <td>1003.0</td>\n",
       "      <td>0.0</td>\n",
       "      <td>1000-1059</td>\n",
       "      <td>1117.0</td>\n",
       "      <td>0.0</td>\n",
       "      <td>0.0</td>\n",
       "      <td>0.0</td>\n",
       "      <td>174.0</td>\n",
       "      <td>NaN</td>\n",
       "    </tr>\n",
       "    <tr>\n",
       "      <th>1</th>\n",
       "      <td>1</td>\n",
       "      <td>3</td>\n",
       "      <td>EV</td>\n",
       "      <td>20366</td>\n",
       "      <td>EV</td>\n",
       "      <td>N16976</td>\n",
       "      <td>4401</td>\n",
       "      <td>15370</td>\n",
       "      <td>1537002</td>\n",
       "      <td>TUL</td>\n",
       "      <td>...</td>\n",
       "      <td>ORD</td>\n",
       "      <td>1027.0</td>\n",
       "      <td>0.0</td>\n",
       "      <td>1000-1059</td>\n",
       "      <td>1216.0</td>\n",
       "      <td>0.0</td>\n",
       "      <td>0.0</td>\n",
       "      <td>0.0</td>\n",
       "      <td>585.0</td>\n",
       "      <td>NaN</td>\n",
       "    </tr>\n",
       "    <tr>\n",
       "      <th>2</th>\n",
       "      <td>1</td>\n",
       "      <td>3</td>\n",
       "      <td>EV</td>\n",
       "      <td>20366</td>\n",
       "      <td>EV</td>\n",
       "      <td>N12167</td>\n",
       "      <td>4404</td>\n",
       "      <td>11618</td>\n",
       "      <td>1161802</td>\n",
       "      <td>EWR</td>\n",
       "      <td>...</td>\n",
       "      <td>TYS</td>\n",
       "      <td>1848.0</td>\n",
       "      <td>0.0</td>\n",
       "      <td>1800-1859</td>\n",
       "      <td>2120.0</td>\n",
       "      <td>0.0</td>\n",
       "      <td>0.0</td>\n",
       "      <td>0.0</td>\n",
       "      <td>631.0</td>\n",
       "      <td>NaN</td>\n",
       "    </tr>\n",
       "    <tr>\n",
       "      <th>3</th>\n",
       "      <td>1</td>\n",
       "      <td>3</td>\n",
       "      <td>EV</td>\n",
       "      <td>20366</td>\n",
       "      <td>EV</td>\n",
       "      <td>N14902</td>\n",
       "      <td>4405</td>\n",
       "      <td>10781</td>\n",
       "      <td>1078105</td>\n",
       "      <td>BTR</td>\n",
       "      <td>...</td>\n",
       "      <td>IAH</td>\n",
       "      <td>1846.0</td>\n",
       "      <td>0.0</td>\n",
       "      <td>1800-1859</td>\n",
       "      <td>2004.0</td>\n",
       "      <td>0.0</td>\n",
       "      <td>0.0</td>\n",
       "      <td>0.0</td>\n",
       "      <td>253.0</td>\n",
       "      <td>NaN</td>\n",
       "    </tr>\n",
       "    <tr>\n",
       "      <th>4</th>\n",
       "      <td>1</td>\n",
       "      <td>3</td>\n",
       "      <td>EV</td>\n",
       "      <td>20366</td>\n",
       "      <td>EV</td>\n",
       "      <td>N606UX</td>\n",
       "      <td>4407</td>\n",
       "      <td>14524</td>\n",
       "      <td>1452401</td>\n",
       "      <td>RIC</td>\n",
       "      <td>...</td>\n",
       "      <td>IAH</td>\n",
       "      <td>1038.0</td>\n",
       "      <td>0.0</td>\n",
       "      <td>1000-1059</td>\n",
       "      <td>1330.0</td>\n",
       "      <td>0.0</td>\n",
       "      <td>0.0</td>\n",
       "      <td>0.0</td>\n",
       "      <td>1157.0</td>\n",
       "      <td>NaN</td>\n",
       "    </tr>\n",
       "  </tbody>\n",
       "</table>\n",
       "<p>5 rows × 22 columns</p>\n",
       "</div>"
      ],
      "text/plain": [
       "   DAY_OF_MONTH  DAY_OF_WEEK OP_UNIQUE_CARRIER  OP_CARRIER_AIRLINE_ID  \\\n",
       "0             1            3                EV                  20366   \n",
       "1             1            3                EV                  20366   \n",
       "2             1            3                EV                  20366   \n",
       "3             1            3                EV                  20366   \n",
       "4             1            3                EV                  20366   \n",
       "\n",
       "  OP_CARRIER TAIL_NUM  OP_CARRIER_FL_NUM  ORIGIN_AIRPORT_ID  \\\n",
       "0         EV   N48901               4397              13930   \n",
       "1         EV   N16976               4401              15370   \n",
       "2         EV   N12167               4404              11618   \n",
       "3         EV   N14902               4405              10781   \n",
       "4         EV   N606UX               4407              14524   \n",
       "\n",
       "   ORIGIN_AIRPORT_SEQ_ID ORIGIN     ...       DEST  DEP_TIME DEP_DEL15  \\\n",
       "0                1393007    ORD     ...        GRB    1003.0       0.0   \n",
       "1                1537002    TUL     ...        ORD    1027.0       0.0   \n",
       "2                1161802    EWR     ...        TYS    1848.0       0.0   \n",
       "3                1078105    BTR     ...        IAH    1846.0       0.0   \n",
       "4                1452401    RIC     ...        IAH    1038.0       0.0   \n",
       "\n",
       "   DEP_TIME_BLK  ARR_TIME ARR_DEL15  CANCELLED  DIVERTED  DISTANCE  \\\n",
       "0     1000-1059    1117.0       0.0        0.0       0.0     174.0   \n",
       "1     1000-1059    1216.0       0.0        0.0       0.0     585.0   \n",
       "2     1800-1859    2120.0       0.0        0.0       0.0     631.0   \n",
       "3     1800-1859    2004.0       0.0        0.0       0.0     253.0   \n",
       "4     1000-1059    1330.0       0.0        0.0       0.0    1157.0   \n",
       "\n",
       "   Unnamed: 21  \n",
       "0          NaN  \n",
       "1          NaN  \n",
       "2          NaN  \n",
       "3          NaN  \n",
       "4          NaN  \n",
       "\n",
       "[5 rows x 22 columns]"
      ]
     },
     "execution_count": 7,
     "metadata": {},
     "output_type": "execute_result"
    }
   ],
   "source": [
    "flights_january_2020.head()"
   ]
  },
  {
   "cell_type": "code",
   "execution_count": 8,
   "metadata": {
    "ExecuteTime": {
     "end_time": "2020-07-02T11:54:12.980200Z",
     "start_time": "2020-07-02T11:54:12.972298Z"
    }
   },
   "outputs": [
    {
     "data": {
      "text/plain": [
       "Index(['DAY_OF_MONTH', 'DAY_OF_WEEK', 'OP_UNIQUE_CARRIER',\n",
       "       'OP_CARRIER_AIRLINE_ID', 'OP_CARRIER', 'TAIL_NUM', 'OP_CARRIER_FL_NUM',\n",
       "       'ORIGIN_AIRPORT_ID', 'ORIGIN_AIRPORT_SEQ_ID', 'ORIGIN',\n",
       "       'DEST_AIRPORT_ID', 'DEST_AIRPORT_SEQ_ID', 'DEST', 'DEP_TIME',\n",
       "       'DEP_DEL15', 'DEP_TIME_BLK', 'ARR_TIME', 'ARR_DEL15', 'CANCELLED',\n",
       "       'DIVERTED', 'DISTANCE', 'Unnamed: 21'],\n",
       "      dtype='object')"
      ]
     },
     "execution_count": 8,
     "metadata": {},
     "output_type": "execute_result"
    }
   ],
   "source": [
    "flights_january_2020.columns"
   ]
  },
  {
   "cell_type": "code",
   "execution_count": 9,
   "metadata": {
    "ExecuteTime": {
     "end_time": "2020-07-02T11:54:12.990733Z",
     "start_time": "2020-07-02T11:54:12.983587Z"
    }
   },
   "outputs": [
    {
     "data": {
      "text/plain": [
       "(607346, 22)"
      ]
     },
     "execution_count": 9,
     "metadata": {},
     "output_type": "execute_result"
    }
   ],
   "source": [
    "flights_january_2020.shape"
   ]
  },
  {
   "cell_type": "markdown",
   "metadata": {},
   "source": [
    "## Data Cleaning and Data Inspecting"
   ]
  },
  {
   "cell_type": "code",
   "execution_count": 10,
   "metadata": {
    "ExecuteTime": {
     "end_time": "2020-07-02T11:54:13.327876Z",
     "start_time": "2020-07-02T11:54:12.993334Z"
    },
    "scrolled": true
   },
   "outputs": [
    {
     "name": "stdout",
     "output_type": "stream",
     "text": [
      "<class 'pandas.core.frame.DataFrame'>\n",
      "RangeIndex: 607346 entries, 0 to 607345\n",
      "Data columns (total 22 columns):\n",
      "DAY_OF_MONTH             607346 non-null int64\n",
      "DAY_OF_WEEK              607346 non-null int64\n",
      "OP_UNIQUE_CARRIER        607346 non-null object\n",
      "OP_CARRIER_AIRLINE_ID    607346 non-null int64\n",
      "OP_CARRIER               607346 non-null object\n",
      "TAIL_NUM                 606648 non-null object\n",
      "OP_CARRIER_FL_NUM        607346 non-null int64\n",
      "ORIGIN_AIRPORT_ID        607346 non-null int64\n",
      "ORIGIN_AIRPORT_SEQ_ID    607346 non-null int64\n",
      "ORIGIN                   607346 non-null object\n",
      "DEST_AIRPORT_ID          607346 non-null int64\n",
      "DEST_AIRPORT_SEQ_ID      607346 non-null int64\n",
      "DEST                     607346 non-null object\n",
      "DEP_TIME                 600682 non-null float64\n",
      "DEP_DEL15                600647 non-null float64\n",
      "DEP_TIME_BLK             607346 non-null object\n",
      "ARR_TIME                 600271 non-null float64\n",
      "ARR_DEL15                599268 non-null float64\n",
      "CANCELLED                607346 non-null float64\n",
      "DIVERTED                 607346 non-null float64\n",
      "DISTANCE                 607346 non-null float64\n",
      "Unnamed: 21              0 non-null float64\n",
      "dtypes: float64(8), int64(8), object(6)\n",
      "memory usage: 101.9+ MB\n"
     ]
    }
   ],
   "source": [
    "flights_january_2020.info()"
   ]
  },
  {
   "cell_type": "code",
   "execution_count": 11,
   "metadata": {
    "ExecuteTime": {
     "end_time": "2020-07-02T11:54:14.037955Z",
     "start_time": "2020-07-02T11:54:13.330428Z"
    }
   },
   "outputs": [
    {
     "data": {
      "text/html": [
       "<div>\n",
       "<style scoped>\n",
       "    .dataframe tbody tr th:only-of-type {\n",
       "        vertical-align: middle;\n",
       "    }\n",
       "\n",
       "    .dataframe tbody tr th {\n",
       "        vertical-align: top;\n",
       "    }\n",
       "\n",
       "    .dataframe thead th {\n",
       "        text-align: right;\n",
       "    }\n",
       "</style>\n",
       "<table border=\"1\" class=\"dataframe\">\n",
       "  <thead>\n",
       "    <tr style=\"text-align: right;\">\n",
       "      <th></th>\n",
       "      <th>DAY_OF_MONTH</th>\n",
       "      <th>DAY_OF_WEEK</th>\n",
       "      <th>OP_CARRIER_AIRLINE_ID</th>\n",
       "      <th>OP_CARRIER_FL_NUM</th>\n",
       "      <th>ORIGIN_AIRPORT_ID</th>\n",
       "      <th>ORIGIN_AIRPORT_SEQ_ID</th>\n",
       "      <th>DEST_AIRPORT_ID</th>\n",
       "      <th>DEST_AIRPORT_SEQ_ID</th>\n",
       "      <th>DEP_TIME</th>\n",
       "      <th>DEP_DEL15</th>\n",
       "      <th>ARR_TIME</th>\n",
       "      <th>ARR_DEL15</th>\n",
       "      <th>CANCELLED</th>\n",
       "      <th>DIVERTED</th>\n",
       "      <th>DISTANCE</th>\n",
       "      <th>Unnamed: 21</th>\n",
       "    </tr>\n",
       "  </thead>\n",
       "  <tbody>\n",
       "    <tr>\n",
       "      <th>count</th>\n",
       "      <td>607346.000000</td>\n",
       "      <td>607346.000000</td>\n",
       "      <td>607346.000000</td>\n",
       "      <td>607346.000000</td>\n",
       "      <td>607346.000000</td>\n",
       "      <td>6.073460e+05</td>\n",
       "      <td>607346.000000</td>\n",
       "      <td>6.073460e+05</td>\n",
       "      <td>600682.000000</td>\n",
       "      <td>600647.000000</td>\n",
       "      <td>600271.000000</td>\n",
       "      <td>599268.000000</td>\n",
       "      <td>607346.000000</td>\n",
       "      <td>607346.000000</td>\n",
       "      <td>607346.000000</td>\n",
       "      <td>0.0</td>\n",
       "    </tr>\n",
       "    <tr>\n",
       "      <th>mean</th>\n",
       "      <td>16.014354</td>\n",
       "      <td>3.955735</td>\n",
       "      <td>19994.137492</td>\n",
       "      <td>2622.365261</td>\n",
       "      <td>12657.389167</td>\n",
       "      <td>1.265743e+06</td>\n",
       "      <td>12657.196320</td>\n",
       "      <td>1.265724e+06</td>\n",
       "      <td>1331.512559</td>\n",
       "      <td>0.136326</td>\n",
       "      <td>1477.968924</td>\n",
       "      <td>0.137309</td>\n",
       "      <td>0.011407</td>\n",
       "      <td>0.001893</td>\n",
       "      <td>798.022341</td>\n",
       "      <td>NaN</td>\n",
       "    </tr>\n",
       "    <tr>\n",
       "      <th>std</th>\n",
       "      <td>8.990719</td>\n",
       "      <td>1.910205</td>\n",
       "      <td>375.754232</td>\n",
       "      <td>1822.545302</td>\n",
       "      <td>1524.407203</td>\n",
       "      <td>1.524405e+05</td>\n",
       "      <td>1524.279269</td>\n",
       "      <td>1.524277e+05</td>\n",
       "      <td>497.095168</td>\n",
       "      <td>0.343135</td>\n",
       "      <td>525.543294</td>\n",
       "      <td>0.344174</td>\n",
       "      <td>0.106193</td>\n",
       "      <td>0.043473</td>\n",
       "      <td>587.282639</td>\n",
       "      <td>NaN</td>\n",
       "    </tr>\n",
       "    <tr>\n",
       "      <th>min</th>\n",
       "      <td>1.000000</td>\n",
       "      <td>1.000000</td>\n",
       "      <td>19393.000000</td>\n",
       "      <td>1.000000</td>\n",
       "      <td>10135.000000</td>\n",
       "      <td>1.013506e+06</td>\n",
       "      <td>10135.000000</td>\n",
       "      <td>1.013506e+06</td>\n",
       "      <td>1.000000</td>\n",
       "      <td>0.000000</td>\n",
       "      <td>1.000000</td>\n",
       "      <td>0.000000</td>\n",
       "      <td>0.000000</td>\n",
       "      <td>0.000000</td>\n",
       "      <td>31.000000</td>\n",
       "      <td>NaN</td>\n",
       "    </tr>\n",
       "    <tr>\n",
       "      <th>25%</th>\n",
       "      <td>8.000000</td>\n",
       "      <td>2.000000</td>\n",
       "      <td>19790.000000</td>\n",
       "      <td>1070.000000</td>\n",
       "      <td>11292.000000</td>\n",
       "      <td>1.129202e+06</td>\n",
       "      <td>11292.000000</td>\n",
       "      <td>1.129202e+06</td>\n",
       "      <td>919.000000</td>\n",
       "      <td>0.000000</td>\n",
       "      <td>1058.000000</td>\n",
       "      <td>0.000000</td>\n",
       "      <td>0.000000</td>\n",
       "      <td>0.000000</td>\n",
       "      <td>369.000000</td>\n",
       "      <td>NaN</td>\n",
       "    </tr>\n",
       "    <tr>\n",
       "      <th>50%</th>\n",
       "      <td>16.000000</td>\n",
       "      <td>4.000000</td>\n",
       "      <td>19977.000000</td>\n",
       "      <td>2177.000000</td>\n",
       "      <td>12889.000000</td>\n",
       "      <td>1.288903e+06</td>\n",
       "      <td>12889.000000</td>\n",
       "      <td>1.288903e+06</td>\n",
       "      <td>1326.000000</td>\n",
       "      <td>0.000000</td>\n",
       "      <td>1513.000000</td>\n",
       "      <td>0.000000</td>\n",
       "      <td>0.000000</td>\n",
       "      <td>0.000000</td>\n",
       "      <td>641.000000</td>\n",
       "      <td>NaN</td>\n",
       "    </tr>\n",
       "    <tr>\n",
       "      <th>75%</th>\n",
       "      <td>24.000000</td>\n",
       "      <td>5.000000</td>\n",
       "      <td>20378.000000</td>\n",
       "      <td>4108.000000</td>\n",
       "      <td>14027.000000</td>\n",
       "      <td>1.402702e+06</td>\n",
       "      <td>14027.000000</td>\n",
       "      <td>1.402702e+06</td>\n",
       "      <td>1739.000000</td>\n",
       "      <td>0.000000</td>\n",
       "      <td>1918.000000</td>\n",
       "      <td>0.000000</td>\n",
       "      <td>0.000000</td>\n",
       "      <td>0.000000</td>\n",
       "      <td>1037.000000</td>\n",
       "      <td>NaN</td>\n",
       "    </tr>\n",
       "    <tr>\n",
       "      <th>max</th>\n",
       "      <td>31.000000</td>\n",
       "      <td>7.000000</td>\n",
       "      <td>20452.000000</td>\n",
       "      <td>6860.000000</td>\n",
       "      <td>16869.000000</td>\n",
       "      <td>1.686901e+06</td>\n",
       "      <td>16869.000000</td>\n",
       "      <td>1.686901e+06</td>\n",
       "      <td>2400.000000</td>\n",
       "      <td>1.000000</td>\n",
       "      <td>2400.000000</td>\n",
       "      <td>1.000000</td>\n",
       "      <td>1.000000</td>\n",
       "      <td>1.000000</td>\n",
       "      <td>5095.000000</td>\n",
       "      <td>NaN</td>\n",
       "    </tr>\n",
       "  </tbody>\n",
       "</table>\n",
       "</div>"
      ],
      "text/plain": [
       "        DAY_OF_MONTH    DAY_OF_WEEK  OP_CARRIER_AIRLINE_ID  OP_CARRIER_FL_NUM  \\\n",
       "count  607346.000000  607346.000000          607346.000000      607346.000000   \n",
       "mean       16.014354       3.955735           19994.137492        2622.365261   \n",
       "std         8.990719       1.910205             375.754232        1822.545302   \n",
       "min         1.000000       1.000000           19393.000000           1.000000   \n",
       "25%         8.000000       2.000000           19790.000000        1070.000000   \n",
       "50%        16.000000       4.000000           19977.000000        2177.000000   \n",
       "75%        24.000000       5.000000           20378.000000        4108.000000   \n",
       "max        31.000000       7.000000           20452.000000        6860.000000   \n",
       "\n",
       "       ORIGIN_AIRPORT_ID  ORIGIN_AIRPORT_SEQ_ID  DEST_AIRPORT_ID  \\\n",
       "count      607346.000000           6.073460e+05    607346.000000   \n",
       "mean        12657.389167           1.265743e+06     12657.196320   \n",
       "std          1524.407203           1.524405e+05      1524.279269   \n",
       "min         10135.000000           1.013506e+06     10135.000000   \n",
       "25%         11292.000000           1.129202e+06     11292.000000   \n",
       "50%         12889.000000           1.288903e+06     12889.000000   \n",
       "75%         14027.000000           1.402702e+06     14027.000000   \n",
       "max         16869.000000           1.686901e+06     16869.000000   \n",
       "\n",
       "       DEST_AIRPORT_SEQ_ID       DEP_TIME      DEP_DEL15       ARR_TIME  \\\n",
       "count         6.073460e+05  600682.000000  600647.000000  600271.000000   \n",
       "mean          1.265724e+06    1331.512559       0.136326    1477.968924   \n",
       "std           1.524277e+05     497.095168       0.343135     525.543294   \n",
       "min           1.013506e+06       1.000000       0.000000       1.000000   \n",
       "25%           1.129202e+06     919.000000       0.000000    1058.000000   \n",
       "50%           1.288903e+06    1326.000000       0.000000    1513.000000   \n",
       "75%           1.402702e+06    1739.000000       0.000000    1918.000000   \n",
       "max           1.686901e+06    2400.000000       1.000000    2400.000000   \n",
       "\n",
       "           ARR_DEL15      CANCELLED       DIVERTED       DISTANCE  Unnamed: 21  \n",
       "count  599268.000000  607346.000000  607346.000000  607346.000000          0.0  \n",
       "mean        0.137309       0.011407       0.001893     798.022341          NaN  \n",
       "std         0.344174       0.106193       0.043473     587.282639          NaN  \n",
       "min         0.000000       0.000000       0.000000      31.000000          NaN  \n",
       "25%         0.000000       0.000000       0.000000     369.000000          NaN  \n",
       "50%         0.000000       0.000000       0.000000     641.000000          NaN  \n",
       "75%         0.000000       0.000000       0.000000    1037.000000          NaN  \n",
       "max         1.000000       1.000000       1.000000    5095.000000          NaN  "
      ]
     },
     "execution_count": 11,
     "metadata": {},
     "output_type": "execute_result"
    }
   ],
   "source": [
    "flights_january_2020.describe()"
   ]
  },
  {
   "cell_type": "code",
   "execution_count": 12,
   "metadata": {
    "ExecuteTime": {
     "end_time": "2020-07-02T11:54:14.062295Z",
     "start_time": "2020-07-02T11:54:14.043182Z"
    }
   },
   "outputs": [
    {
     "data": {
      "text/plain": [
       "6     20943\n",
       "10    20810\n",
       "31    20809\n",
       "24    20789\n",
       "9     20789\n",
       "17    20788\n",
       "16    20762\n",
       "30    20757\n",
       "23    20756\n",
       "5     20632\n",
       "3     20616\n",
       "2     20612\n",
       "27    20609\n",
       "13    20589\n",
       "20    20248\n",
       "26    19911\n",
       "12    19897\n",
       "29    19675\n",
       "22    19671\n",
       "8     19670\n",
       "15    19669\n",
       "21    19169\n",
       "7     19164\n",
       "14    19156\n",
       "28    19155\n",
       "1     18114\n",
       "4     18099\n",
       "19    18066\n",
       "11    16033\n",
       "25    15984\n",
       "18    15404\n",
       "Name: DAY_OF_MONTH, dtype: int64"
      ]
     },
     "execution_count": 12,
     "metadata": {},
     "output_type": "execute_result"
    }
   ],
   "source": [
    "flights_january_2020[\"DAY_OF_MONTH\"].value_counts()"
   ]
  },
  {
   "cell_type": "code",
   "execution_count": 13,
   "metadata": {
    "ExecuteTime": {
     "end_time": "2020-07-02T11:54:14.077364Z",
     "start_time": "2020-07-02T11:54:14.065431Z"
    }
   },
   "outputs": [
    {
     "data": {
      "text/plain": [
       "0"
      ]
     },
     "execution_count": 13,
     "metadata": {},
     "output_type": "execute_result"
    }
   ],
   "source": [
    "flights_january_2020[\"DAY_OF_MONTH\"].isnull().sum()"
   ]
  },
  {
   "cell_type": "code",
   "execution_count": 14,
   "metadata": {
    "ExecuteTime": {
     "end_time": "2020-07-02T11:54:14.120053Z",
     "start_time": "2020-07-02T11:54:14.083874Z"
    }
   },
   "outputs": [
    {
     "data": {
      "text/plain": [
       "5    103812\n",
       "4    103676\n",
       "3     96799\n",
       "1     82389\n",
       "7     78506\n",
       "2     76644\n",
       "6     65520\n",
       "Name: DAY_OF_WEEK, dtype: int64"
      ]
     },
     "execution_count": 14,
     "metadata": {},
     "output_type": "execute_result"
    }
   ],
   "source": [
    "flights_january_2020[\"DAY_OF_WEEK\"].value_counts()"
   ]
  },
  {
   "cell_type": "code",
   "execution_count": 15,
   "metadata": {
    "ExecuteTime": {
     "end_time": "2020-07-02T11:54:14.151203Z",
     "start_time": "2020-07-02T11:54:14.125115Z"
    }
   },
   "outputs": [
    {
     "data": {
      "text/plain": [
       "0"
      ]
     },
     "execution_count": 15,
     "metadata": {},
     "output_type": "execute_result"
    }
   ],
   "source": [
    "flights_january_2020[\"DAY_OF_WEEK\"].isnull().sum()"
   ]
  },
  {
   "cell_type": "code",
   "execution_count": 16,
   "metadata": {
    "ExecuteTime": {
     "end_time": "2020-07-02T11:54:14.281185Z",
     "start_time": "2020-07-02T11:54:14.163942Z"
    }
   },
   "outputs": [
    {
     "data": {
      "text/plain": [
       "WN    109770\n",
       "DL     80067\n",
       "AA     76276\n",
       "OO     71160\n",
       "UA     48401\n",
       "YX     29123\n",
       "MQ     26200\n",
       "B6     24709\n",
       "OH     24309\n",
       "9E     23068\n",
       "AS     21110\n",
       "YV     17836\n",
       "NK     17477\n",
       "F9     12467\n",
       "EV     10564\n",
       "G4      7774\n",
       "HA      7035\n",
       "Name: OP_UNIQUE_CARRIER, dtype: int64"
      ]
     },
     "execution_count": 16,
     "metadata": {},
     "output_type": "execute_result"
    }
   ],
   "source": [
    "flights_january_2020[\"OP_UNIQUE_CARRIER\"].value_counts()"
   ]
  },
  {
   "cell_type": "code",
   "execution_count": 17,
   "metadata": {
    "ExecuteTime": {
     "end_time": "2020-07-02T11:54:14.316336Z",
     "start_time": "2020-07-02T11:54:14.287812Z"
    }
   },
   "outputs": [
    {
     "data": {
      "text/plain": [
       "0"
      ]
     },
     "execution_count": 17,
     "metadata": {},
     "output_type": "execute_result"
    }
   ],
   "source": [
    "flights_january_2020[\"OP_UNIQUE_CARRIER\"].isnull().sum()"
   ]
  },
  {
   "cell_type": "code",
   "execution_count": 18,
   "metadata": {
    "ExecuteTime": {
     "end_time": "2020-07-02T11:54:14.352632Z",
     "start_time": "2020-07-02T11:54:14.321403Z"
    }
   },
   "outputs": [
    {
     "data": {
      "text/plain": [
       "19393    109770\n",
       "19790     80067\n",
       "19805     76276\n",
       "20304     71160\n",
       "19977     48401\n",
       "20452     29123\n",
       "20398     26200\n",
       "20409     24709\n",
       "20397     24309\n",
       "20363     23068\n",
       "19930     21110\n",
       "20378     17836\n",
       "20416     17477\n",
       "20436     12467\n",
       "20366     10564\n",
       "20368      7774\n",
       "19690      7035\n",
       "Name: OP_CARRIER_AIRLINE_ID, dtype: int64"
      ]
     },
     "execution_count": 18,
     "metadata": {},
     "output_type": "execute_result"
    }
   ],
   "source": [
    "flights_january_2020[\"OP_CARRIER_AIRLINE_ID\"].value_counts()"
   ]
  },
  {
   "cell_type": "code",
   "execution_count": 19,
   "metadata": {
    "ExecuteTime": {
     "end_time": "2020-07-02T11:54:14.374954Z",
     "start_time": "2020-07-02T11:54:14.357668Z"
    }
   },
   "outputs": [
    {
     "data": {
      "text/plain": [
       "0"
      ]
     },
     "execution_count": 19,
     "metadata": {},
     "output_type": "execute_result"
    }
   ],
   "source": [
    "flights_january_2020[\"OP_CARRIER_AIRLINE_ID\"].isnull().sum()"
   ]
  },
  {
   "cell_type": "code",
   "execution_count": 20,
   "metadata": {
    "ExecuteTime": {
     "end_time": "2020-07-02T11:54:14.508394Z",
     "start_time": "2020-07-02T11:54:14.378752Z"
    }
   },
   "outputs": [
    {
     "data": {
      "text/plain": [
       "WN    109770\n",
       "DL     80067\n",
       "AA     76276\n",
       "OO     71160\n",
       "UA     48401\n",
       "YX     29123\n",
       "MQ     26200\n",
       "B6     24709\n",
       "OH     24309\n",
       "9E     23068\n",
       "AS     21110\n",
       "YV     17836\n",
       "NK     17477\n",
       "F9     12467\n",
       "EV     10564\n",
       "G4      7774\n",
       "HA      7035\n",
       "Name: OP_CARRIER, dtype: int64"
      ]
     },
     "execution_count": 20,
     "metadata": {},
     "output_type": "execute_result"
    }
   ],
   "source": [
    "flights_january_2020[\"OP_CARRIER\"].value_counts()# Code assigned by IATA and commonly used to identify a carrier."
   ]
  },
  {
   "cell_type": "code",
   "execution_count": 21,
   "metadata": {
    "ExecuteTime": {
     "end_time": "2020-07-02T11:54:14.541633Z",
     "start_time": "2020-07-02T11:54:14.510593Z"
    }
   },
   "outputs": [
    {
     "data": {
      "text/plain": [
       "0"
      ]
     },
     "execution_count": 21,
     "metadata": {},
     "output_type": "execute_result"
    }
   ],
   "source": [
    "flights_january_2020[\"OP_CARRIER\"].isnull().sum()"
   ]
  },
  {
   "cell_type": "code",
   "execution_count": 22,
   "metadata": {
    "ExecuteTime": {
     "end_time": "2020-07-02T11:54:14.707578Z",
     "start_time": "2020-07-02T11:54:14.561645Z"
    }
   },
   "outputs": [
    {
     "data": {
      "text/plain": [
       "606648"
      ]
     },
     "execution_count": 22,
     "metadata": {},
     "output_type": "execute_result"
    }
   ],
   "source": [
    "flights_january_2020[\"TAIL_NUM\"].value_counts().sum()"
   ]
  },
  {
   "cell_type": "code",
   "execution_count": 23,
   "metadata": {
    "ExecuteTime": {
     "end_time": "2020-07-02T11:54:14.743021Z",
     "start_time": "2020-07-02T11:54:14.714686Z"
    }
   },
   "outputs": [
    {
     "data": {
      "text/plain": [
       "698"
      ]
     },
     "execution_count": 23,
     "metadata": {},
     "output_type": "execute_result"
    }
   ],
   "source": [
    "flights_january_2020[\"TAIL_NUM\"].isnull().sum()"
   ]
  },
  {
   "cell_type": "code",
   "execution_count": 24,
   "metadata": {
    "ExecuteTime": {
     "end_time": "2020-07-02T11:54:14.912985Z",
     "start_time": "2020-07-02T11:54:14.766491Z"
    }
   },
   "outputs": [],
   "source": [
    "NAN_NONE=(flights_january_2020[\"TAIL_NUM\"].isnull().sum())*100/(flights_january_2020[\"TAIL_NUM\"].value_counts().sum())"
   ]
  },
  {
   "cell_type": "code",
   "execution_count": 25,
   "metadata": {
    "ExecuteTime": {
     "end_time": "2020-07-02T11:54:14.923216Z",
     "start_time": "2020-07-02T11:54:14.915060Z"
    }
   },
   "outputs": [
    {
     "data": {
      "text/plain": [
       "0.1150584853160317"
      ]
     },
     "execution_count": 25,
     "metadata": {},
     "output_type": "execute_result"
    }
   ],
   "source": [
    "NAN_NONE"
   ]
  },
  {
   "cell_type": "markdown",
   "metadata": {},
   "source": [
    "I can see that the percentage of null values is really low 0,11% so i will drop them "
   ]
  },
  {
   "cell_type": "code",
   "execution_count": 26,
   "metadata": {
    "ExecuteTime": {
     "end_time": "2020-07-02T11:54:14.988866Z",
     "start_time": "2020-07-02T11:54:14.925586Z"
    }
   },
   "outputs": [],
   "source": [
    "flights_january_2020[\"TAIL_NUM\"].dropna(inplace= True)"
   ]
  },
  {
   "cell_type": "code",
   "execution_count": 27,
   "metadata": {
    "ExecuteTime": {
     "end_time": "2020-07-02T11:54:15.035906Z",
     "start_time": "2020-07-02T11:54:14.991084Z"
    }
   },
   "outputs": [
    {
     "data": {
      "text/plain": [
       "416     349\n",
       "478     340\n",
       "519     328\n",
       "403     322\n",
       "1095    311\n",
       "1226    305\n",
       "834     297\n",
       "1590    294\n",
       "1423    292\n",
       "1251    290\n",
       "261     285\n",
       "443     285\n",
       "1926    283\n",
       "1552    277\n",
       "486     275\n",
       "410     274\n",
       "1743    272\n",
       "676     271\n",
       "729     269\n",
       "927     268\n",
       "1102    266\n",
       "2074    266\n",
       "546     266\n",
       "1045    264\n",
       "1387    263\n",
       "35      261\n",
       "770     260\n",
       "301     260\n",
       "533     259\n",
       "671     258\n",
       "       ... \n",
       "6485      1\n",
       "6619      1\n",
       "6401      1\n",
       "6501      1\n",
       "6538      1\n",
       "4985      1\n",
       "6230      1\n",
       "6603      1\n",
       "6771      1\n",
       "6536      1\n",
       "6489      1\n",
       "6696      1\n",
       "6655      1\n",
       "6625      1\n",
       "6664      1\n",
       "6404      1\n",
       "6429      1\n",
       "6671      1\n",
       "6648      1\n",
       "6482      1\n",
       "6716      1\n",
       "6633      1\n",
       "6345      1\n",
       "6526      1\n",
       "6315      1\n",
       "6434      1\n",
       "6703      1\n",
       "6400      1\n",
       "6666      1\n",
       "6728      1\n",
       "Name: OP_CARRIER_FL_NUM, Length: 6720, dtype: int64"
      ]
     },
     "execution_count": 27,
     "metadata": {},
     "output_type": "execute_result"
    }
   ],
   "source": [
    "flights_january_2020[\"OP_CARRIER_FL_NUM\"].value_counts()"
   ]
  },
  {
   "cell_type": "code",
   "execution_count": 28,
   "metadata": {
    "ExecuteTime": {
     "end_time": "2020-07-02T11:54:15.055230Z",
     "start_time": "2020-07-02T11:54:15.042134Z"
    }
   },
   "outputs": [
    {
     "data": {
      "text/plain": [
       "0"
      ]
     },
     "execution_count": 28,
     "metadata": {},
     "output_type": "execute_result"
    }
   ],
   "source": [
    "flights_january_2020[\"OP_CARRIER_FL_NUM\"].isnull().sum()"
   ]
  },
  {
   "cell_type": "code",
   "execution_count": 29,
   "metadata": {
    "ExecuteTime": {
     "end_time": "2020-07-02T11:54:15.078772Z",
     "start_time": "2020-07-02T11:54:15.059079Z"
    }
   },
   "outputs": [
    {
     "data": {
      "text/plain": [
       "10397    32190\n",
       "13930    25661\n",
       "11298    24339\n",
       "11292    20398\n",
       "11057    19995\n",
       "12892    17799\n",
       "14107    15325\n",
       "12266    14792\n",
       "12889    14186\n",
       "12953    13836\n",
       "14771    13684\n",
       "11433    13195\n",
       "13204    12820\n",
       "13487    12429\n",
       "10721    12182\n",
       "14747    11583\n",
       "11278    11575\n",
       "11618    11415\n",
       "12478    10312\n",
       "14869    10196\n",
       "11697     9446\n",
       "14100     8839\n",
       "13303     8375\n",
       "10821     7886\n",
       "14679     7477\n",
       "15304     6787\n",
       "10693     6628\n",
       "11259     6167\n",
       "13232     6135\n",
       "15016     5647\n",
       "         ...  \n",
       "10918       54\n",
       "12888       54\n",
       "12129       54\n",
       "12244       54\n",
       "12917       54\n",
       "10558       54\n",
       "11447       54\n",
       "12343       53\n",
       "15582       53\n",
       "10967       53\n",
       "10170       53\n",
       "14534       51\n",
       "14955       44\n",
       "14812       37\n",
       "13121       35\n",
       "11092       31\n",
       "11233       31\n",
       "12223       27\n",
       "13964       24\n",
       "14259       20\n",
       "14905       16\n",
       "15008       13\n",
       "10562       13\n",
       "12119       12\n",
       "15454       10\n",
       "14222        9\n",
       "13983        9\n",
       "13829        9\n",
       "10165        9\n",
       "11097        1\n",
       "Name: ORIGIN_AIRPORT_ID, Length: 351, dtype: int64"
      ]
     },
     "execution_count": 29,
     "metadata": {},
     "output_type": "execute_result"
    }
   ],
   "source": [
    "flights_january_2020[\"ORIGIN_AIRPORT_ID\"].value_counts()"
   ]
  },
  {
   "cell_type": "code",
   "execution_count": 30,
   "metadata": {
    "ExecuteTime": {
     "end_time": "2020-07-02T11:54:15.108964Z",
     "start_time": "2020-07-02T11:54:15.091518Z"
    }
   },
   "outputs": [
    {
     "data": {
      "text/plain": [
       "0"
      ]
     },
     "execution_count": 30,
     "metadata": {},
     "output_type": "execute_result"
    }
   ],
   "source": [
    "flights_january_2020[\"ORIGIN_AIRPORT_ID\"].isnull().sum()"
   ]
  },
  {
   "cell_type": "code",
   "execution_count": 31,
   "metadata": {
    "ExecuteTime": {
     "end_time": "2020-07-02T11:54:15.138982Z",
     "start_time": "2020-07-02T11:54:15.115581Z"
    }
   },
   "outputs": [
    {
     "data": {
      "text/plain": [
       "1039707    32190\n",
       "1393007    25661\n",
       "1129806    24339\n",
       "1129202    20398\n",
       "1105703    19995\n",
       "1289208    17799\n",
       "1410702    15325\n",
       "1226603    14792\n",
       "1288903    14186\n",
       "1295304    13836\n",
       "1477104    13684\n",
       "1143302    13195\n",
       "1320402    12820\n",
       "1348702    12429\n",
       "1072102    12182\n",
       "1474703    11583\n",
       "1127805    11575\n",
       "1161802    11415\n",
       "1247805    10312\n",
       "1486903    10196\n",
       "1169706     9446\n",
       "1410005     8839\n",
       "1330303     8375\n",
       "1082106     7886\n",
       "1467903     7477\n",
       "1530402     6787\n",
       "1069302     6628\n",
       "1125904     6167\n",
       "1323202     6135\n",
       "1501606     5647\n",
       "           ...  \n",
       "1033302       54\n",
       "1289902       54\n",
       "1212903       54\n",
       "1144705       54\n",
       "1290205       54\n",
       "1291703       54\n",
       "1055803       54\n",
       "1096702       53\n",
       "1234305       53\n",
       "1558203       53\n",
       "1017004       53\n",
       "1453402       51\n",
       "1495503       44\n",
       "1481202       37\n",
       "1312102       35\n",
       "1109204       31\n",
       "1123302       31\n",
       "1222305       27\n",
       "1396403       24\n",
       "1425902       20\n",
       "1490505       16\n",
       "1500803       13\n",
       "1056202       13\n",
       "1211902       12\n",
       "1545405       10\n",
       "1382903        9\n",
       "1398305        9\n",
       "1422207        9\n",
       "1016506        9\n",
       "1109702        1\n",
       "Name: ORIGIN_AIRPORT_SEQ_ID, Length: 351, dtype: int64"
      ]
     },
     "execution_count": 31,
     "metadata": {},
     "output_type": "execute_result"
    }
   ],
   "source": [
    "flights_january_2020[\"ORIGIN_AIRPORT_SEQ_ID\"].value_counts()"
   ]
  },
  {
   "cell_type": "code",
   "execution_count": 32,
   "metadata": {
    "ExecuteTime": {
     "end_time": "2020-07-02T11:54:15.169417Z",
     "start_time": "2020-07-02T11:54:15.154924Z"
    }
   },
   "outputs": [
    {
     "data": {
      "text/plain": [
       "0"
      ]
     },
     "execution_count": 32,
     "metadata": {},
     "output_type": "execute_result"
    }
   ],
   "source": [
    "flights_january_2020[\"ORIGIN_AIRPORT_SEQ_ID\"].isnull().sum()"
   ]
  },
  {
   "cell_type": "code",
   "execution_count": 33,
   "metadata": {
    "ExecuteTime": {
     "end_time": "2020-07-02T11:54:15.334953Z",
     "start_time": "2020-07-02T11:54:15.179247Z"
    }
   },
   "outputs": [
    {
     "data": {
      "text/plain": [
       "ATL    32190\n",
       "ORD    25661\n",
       "DFW    24339\n",
       "DEN    20398\n",
       "CLT    19995\n",
       "LAX    17799\n",
       "PHX    15325\n",
       "IAH    14792\n",
       "LAS    14186\n",
       "LGA    13836\n",
       "SFO    13684\n",
       "DTW    13195\n",
       "MCO    12820\n",
       "MSP    12429\n",
       "BOS    12182\n",
       "SEA    11583\n",
       "DCA    11575\n",
       "EWR    11415\n",
       "JFK    10312\n",
       "SLC    10196\n",
       "FLL     9446\n",
       "PHL     8839\n",
       "MIA     8375\n",
       "BWI     7886\n",
       "SAN     7477\n",
       "TPA     6787\n",
       "BNA     6628\n",
       "DAL     6167\n",
       "MDW     6135\n",
       "STL     5647\n",
       "       ...  \n",
       "LBL       54\n",
       "HVN       54\n",
       "ESC       54\n",
       "CDC       54\n",
       "LAR       54\n",
       "APN       54\n",
       "DVL       54\n",
       "ADQ       53\n",
       "INL       53\n",
       "VEL       53\n",
       "CGI       53\n",
       "RIW       51\n",
       "SPN       44\n",
       "SHR       37\n",
       "LWB       35\n",
       "CNY       31\n",
       "CYS       31\n",
       "HTS       27\n",
       "OTH       24\n",
       "PSM       20\n",
       "SMX       16\n",
       "STC       13\n",
       "BFM       13\n",
       "HGR       12\n",
       "UIN       10\n",
       "ADK        9\n",
       "OWB        9\n",
       "OGD        9\n",
       "PPG        9\n",
       "COD        1\n",
       "Name: ORIGIN, Length: 351, dtype: int64"
      ]
     },
     "execution_count": 33,
     "metadata": {},
     "output_type": "execute_result"
    }
   ],
   "source": [
    "flights_january_2020[\"ORIGIN\"].value_counts()"
   ]
  },
  {
   "cell_type": "code",
   "execution_count": 34,
   "metadata": {
    "ExecuteTime": {
     "end_time": "2020-07-02T11:54:15.367993Z",
     "start_time": "2020-07-02T11:54:15.338331Z"
    }
   },
   "outputs": [
    {
     "data": {
      "text/plain": [
       "0"
      ]
     },
     "execution_count": 34,
     "metadata": {},
     "output_type": "execute_result"
    }
   ],
   "source": [
    "flights_january_2020[\"ORIGIN\"].isnull().sum()"
   ]
  },
  {
   "cell_type": "code",
   "execution_count": 35,
   "metadata": {
    "ExecuteTime": {
     "end_time": "2020-07-02T11:54:15.417544Z",
     "start_time": "2020-07-02T11:54:15.389358Z"
    }
   },
   "outputs": [
    {
     "data": {
      "text/plain": [
       "10397    32187\n",
       "13930    25687\n",
       "11298    24354\n",
       "11292    20405\n",
       "11057    20002\n",
       "12892    17794\n",
       "14107    15333\n",
       "12266    14793\n",
       "12889    14184\n",
       "12953    13836\n",
       "14771    13686\n",
       "11433    13190\n",
       "13204    12816\n",
       "13487    12428\n",
       "10721    12190\n",
       "14747    11585\n",
       "11278    11575\n",
       "11618    11420\n",
       "12478    10302\n",
       "14869    10213\n",
       "11697     9445\n",
       "14100     8839\n",
       "13303     8371\n",
       "10821     7885\n",
       "14679     7470\n",
       "15304     6779\n",
       "10693     6625\n",
       "11259     6171\n",
       "13232     6137\n",
       "15016     5644\n",
       "         ...  \n",
       "12902       54\n",
       "10558       54\n",
       "10918       54\n",
       "12899       54\n",
       "10739       54\n",
       "11447       54\n",
       "11587       54\n",
       "12917       54\n",
       "12888       54\n",
       "10170       53\n",
       "15582       53\n",
       "10967       53\n",
       "14534       51\n",
       "14955       44\n",
       "14812       38\n",
       "13121       35\n",
       "11092       31\n",
       "11233       31\n",
       "12223       27\n",
       "13964       24\n",
       "14259       20\n",
       "14905       16\n",
       "15008       13\n",
       "10562       13\n",
       "12119       12\n",
       "10165        9\n",
       "14222        9\n",
       "13983        9\n",
       "15454        9\n",
       "13829        9\n",
       "Name: DEST_AIRPORT_ID, Length: 350, dtype: int64"
      ]
     },
     "execution_count": 35,
     "metadata": {},
     "output_type": "execute_result"
    }
   ],
   "source": [
    "flights_january_2020[\"DEST_AIRPORT_ID\"].value_counts()"
   ]
  },
  {
   "cell_type": "code",
   "execution_count": 36,
   "metadata": {
    "ExecuteTime": {
     "end_time": "2020-07-02T11:54:15.447103Z",
     "start_time": "2020-07-02T11:54:15.420498Z"
    }
   },
   "outputs": [
    {
     "data": {
      "text/plain": [
       "0"
      ]
     },
     "execution_count": 36,
     "metadata": {},
     "output_type": "execute_result"
    }
   ],
   "source": [
    "flights_january_2020[\"DEST_AIRPORT_ID\"].isnull().sum()"
   ]
  },
  {
   "cell_type": "code",
   "execution_count": 37,
   "metadata": {
    "ExecuteTime": {
     "end_time": "2020-07-02T11:54:15.479990Z",
     "start_time": "2020-07-02T11:54:15.451401Z"
    }
   },
   "outputs": [
    {
     "data": {
      "text/plain": [
       "1039707    32187\n",
       "1393007    25687\n",
       "1129806    24354\n",
       "1129202    20405\n",
       "1105703    20002\n",
       "1289208    17794\n",
       "1410702    15333\n",
       "1226603    14793\n",
       "1288903    14184\n",
       "1295304    13836\n",
       "1477104    13686\n",
       "1143302    13190\n",
       "1320402    12816\n",
       "1348702    12428\n",
       "1072102    12190\n",
       "1474703    11585\n",
       "1127805    11575\n",
       "1161802    11420\n",
       "1247805    10302\n",
       "1486903    10213\n",
       "1169706     9445\n",
       "1410005     8839\n",
       "1330303     8371\n",
       "1082106     7885\n",
       "1467903     7470\n",
       "1530402     6779\n",
       "1069302     6625\n",
       "1125904     6171\n",
       "1323202     6137\n",
       "1501606     5644\n",
       "           ...  \n",
       "1091802       54\n",
       "1288802       54\n",
       "1144705       54\n",
       "1158702       54\n",
       "1055803       54\n",
       "1289902       54\n",
       "1291703       54\n",
       "1290205       54\n",
       "1212903       54\n",
       "1558203       53\n",
       "1096702       53\n",
       "1017004       53\n",
       "1453402       51\n",
       "1495503       44\n",
       "1481202       38\n",
       "1312102       35\n",
       "1109204       31\n",
       "1123302       31\n",
       "1222305       27\n",
       "1396403       24\n",
       "1425902       20\n",
       "1490505       16\n",
       "1056202       13\n",
       "1500803       13\n",
       "1211902       12\n",
       "1016506        9\n",
       "1398305        9\n",
       "1422207        9\n",
       "1382903        9\n",
       "1545405        9\n",
       "Name: DEST_AIRPORT_SEQ_ID, Length: 350, dtype: int64"
      ]
     },
     "execution_count": 37,
     "metadata": {},
     "output_type": "execute_result"
    }
   ],
   "source": [
    "flights_january_2020[\"DEST_AIRPORT_SEQ_ID\"].value_counts()"
   ]
  },
  {
   "cell_type": "code",
   "execution_count": 38,
   "metadata": {
    "ExecuteTime": {
     "end_time": "2020-07-02T11:54:15.515316Z",
     "start_time": "2020-07-02T11:54:15.485325Z"
    }
   },
   "outputs": [
    {
     "data": {
      "text/plain": [
       "0"
      ]
     },
     "execution_count": 38,
     "metadata": {},
     "output_type": "execute_result"
    }
   ],
   "source": [
    "flights_january_2020[\"DEST_AIRPORT_SEQ_ID\"].isnull().sum()"
   ]
  },
  {
   "cell_type": "code",
   "execution_count": 39,
   "metadata": {
    "ExecuteTime": {
     "end_time": "2020-07-02T11:54:15.665673Z",
     "start_time": "2020-07-02T11:54:15.520230Z"
    }
   },
   "outputs": [
    {
     "data": {
      "text/plain": [
       "ATL    32187\n",
       "ORD    25687\n",
       "DFW    24354\n",
       "DEN    20405\n",
       "CLT    20002\n",
       "LAX    17794\n",
       "PHX    15333\n",
       "IAH    14793\n",
       "LAS    14184\n",
       "LGA    13836\n",
       "SFO    13686\n",
       "DTW    13190\n",
       "MCO    12816\n",
       "MSP    12428\n",
       "BOS    12190\n",
       "SEA    11585\n",
       "DCA    11575\n",
       "EWR    11420\n",
       "JFK    10302\n",
       "SLC    10213\n",
       "FLL     9445\n",
       "PHL     8839\n",
       "MIA     8371\n",
       "BWI     7885\n",
       "SAN     7470\n",
       "TPA     6779\n",
       "BNA     6625\n",
       "DAL     6171\n",
       "MDW     6137\n",
       "STL     5644\n",
       "       ...  \n",
       "CDC       54\n",
       "DVL       54\n",
       "HIB       54\n",
       "BRD       54\n",
       "ESC       54\n",
       "LCK       54\n",
       "LBL       54\n",
       "LAR       54\n",
       "INL       54\n",
       "ADQ       53\n",
       "CGI       53\n",
       "VEL       53\n",
       "RIW       51\n",
       "SPN       44\n",
       "SHR       38\n",
       "LWB       35\n",
       "CNY       31\n",
       "CYS       31\n",
       "HTS       27\n",
       "OTH       24\n",
       "PSM       20\n",
       "SMX       16\n",
       "STC       13\n",
       "BFM       13\n",
       "HGR       12\n",
       "PPG        9\n",
       "UIN        9\n",
       "OWB        9\n",
       "OGD        9\n",
       "ADK        9\n",
       "Name: DEST, Length: 350, dtype: int64"
      ]
     },
     "execution_count": 39,
     "metadata": {},
     "output_type": "execute_result"
    }
   ],
   "source": [
    "flights_january_2020[\"DEST\"].value_counts()"
   ]
  },
  {
   "cell_type": "code",
   "execution_count": 40,
   "metadata": {
    "ExecuteTime": {
     "end_time": "2020-07-02T11:54:15.700182Z",
     "start_time": "2020-07-02T11:54:15.667890Z"
    }
   },
   "outputs": [
    {
     "data": {
      "text/plain": [
       "0"
      ]
     },
     "execution_count": 40,
     "metadata": {},
     "output_type": "execute_result"
    }
   ],
   "source": [
    "flights_january_2020[\"DEST\"].isnull().sum()"
   ]
  },
  {
   "cell_type": "code",
   "execution_count": 41,
   "metadata": {
    "ExecuteTime": {
     "end_time": "2020-07-02T11:54:15.782951Z",
     "start_time": "2020-07-02T11:54:15.703296Z"
    }
   },
   "outputs": [
    {
     "data": {
      "text/plain": [
       "600682"
      ]
     },
     "execution_count": 41,
     "metadata": {},
     "output_type": "execute_result"
    }
   ],
   "source": [
    "flights_january_2020[\"DEP_TIME\"].value_counts().sum()"
   ]
  },
  {
   "cell_type": "code",
   "execution_count": 42,
   "metadata": {
    "ExecuteTime": {
     "end_time": "2020-07-02T11:54:15.807307Z",
     "start_time": "2020-07-02T11:54:15.785304Z"
    }
   },
   "outputs": [
    {
     "data": {
      "text/plain": [
       "6664"
      ]
     },
     "execution_count": 42,
     "metadata": {},
     "output_type": "execute_result"
    }
   ],
   "source": [
    "flights_january_2020[\"DEP_TIME\"].isnull().sum()"
   ]
  },
  {
   "cell_type": "code",
   "execution_count": 43,
   "metadata": {
    "ExecuteTime": {
     "end_time": "2020-07-02T11:54:15.883615Z",
     "start_time": "2020-07-02T11:54:15.814545Z"
    }
   },
   "outputs": [],
   "source": [
    "NAN = (flights_january_2020[\"DEP_TIME\"].isnull().sum())*100/(flights_january_2020[\"DEP_TIME\"].value_counts().sum())"
   ]
  },
  {
   "cell_type": "code",
   "execution_count": 44,
   "metadata": {
    "ExecuteTime": {
     "end_time": "2020-07-02T11:54:15.907909Z",
     "start_time": "2020-07-02T11:54:15.893912Z"
    }
   },
   "outputs": [
    {
     "data": {
      "text/plain": [
       "1.1094056422533054"
      ]
     },
     "execution_count": 44,
     "metadata": {},
     "output_type": "execute_result"
    }
   ],
   "source": [
    "NAN"
   ]
  },
  {
   "cell_type": "markdown",
   "metadata": {},
   "source": [
    "I will drop the null values becouse their percentage is really low"
   ]
  },
  {
   "cell_type": "code",
   "execution_count": 45,
   "metadata": {
    "ExecuteTime": {
     "end_time": "2020-07-02T11:54:15.930896Z",
     "start_time": "2020-07-02T11:54:15.911169Z"
    }
   },
   "outputs": [],
   "source": [
    "flights_january_2020[\"DEP_TIME\"].dropna(inplace= True)"
   ]
  },
  {
   "cell_type": "code",
   "execution_count": 46,
   "metadata": {
    "ExecuteTime": {
     "end_time": "2020-07-02T11:54:15.947060Z",
     "start_time": "2020-07-02T11:54:15.935354Z"
    }
   },
   "outputs": [
    {
     "data": {
      "text/plain": [
       "0"
      ]
     },
     "execution_count": 46,
     "metadata": {},
     "output_type": "execute_result"
    }
   ],
   "source": [
    "flights_january_2020[\"DEP_TIME\"].isnull().sum()"
   ]
  },
  {
   "cell_type": "code",
   "execution_count": 47,
   "metadata": {
    "ExecuteTime": {
     "end_time": "2020-07-02T11:54:15.984540Z",
     "start_time": "2020-07-02T11:54:15.949881Z"
    }
   },
   "outputs": [
    {
     "data": {
      "text/plain": [
       "600647"
      ]
     },
     "execution_count": 47,
     "metadata": {},
     "output_type": "execute_result"
    }
   ],
   "source": [
    "flights_january_2020[\"DEP_DEL15\"].value_counts().sum()"
   ]
  },
  {
   "cell_type": "code",
   "execution_count": 48,
   "metadata": {
    "ExecuteTime": {
     "end_time": "2020-07-02T11:54:16.003915Z",
     "start_time": "2020-07-02T11:54:15.992078Z"
    }
   },
   "outputs": [
    {
     "data": {
      "text/plain": [
       "6699"
      ]
     },
     "execution_count": 48,
     "metadata": {},
     "output_type": "execute_result"
    }
   ],
   "source": [
    "flights_january_2020[\"DEP_DEL15\"].isnull().sum()"
   ]
  },
  {
   "cell_type": "code",
   "execution_count": 49,
   "metadata": {
    "ExecuteTime": {
     "end_time": "2020-07-02T11:54:16.024437Z",
     "start_time": "2020-07-02T11:54:16.011861Z"
    }
   },
   "outputs": [],
   "source": [
    "flights_january_2020[\"DEP_DEL15\"].dropna(inplace= True)"
   ]
  },
  {
   "cell_type": "code",
   "execution_count": 50,
   "metadata": {
    "ExecuteTime": {
     "end_time": "2020-07-02T11:54:16.190578Z",
     "start_time": "2020-07-02T11:54:16.039662Z"
    }
   },
   "outputs": [
    {
     "data": {
      "text/plain": [
       "607346"
      ]
     },
     "execution_count": 50,
     "metadata": {},
     "output_type": "execute_result"
    }
   ],
   "source": [
    "flights_january_2020[\"DEP_TIME_BLK\"].value_counts().sum()  "
   ]
  },
  {
   "cell_type": "code",
   "execution_count": 51,
   "metadata": {
    "ExecuteTime": {
     "end_time": "2020-07-02T11:54:16.220654Z",
     "start_time": "2020-07-02T11:54:16.193985Z"
    }
   },
   "outputs": [],
   "source": [
    "flights_january_2020[\"DEP_TIME_BLK\"].isnull().dropna(inplace= True)"
   ]
  },
  {
   "cell_type": "code",
   "execution_count": 52,
   "metadata": {
    "ExecuteTime": {
     "end_time": "2020-07-02T11:54:16.274178Z",
     "start_time": "2020-07-02T11:54:16.222799Z"
    }
   },
   "outputs": [
    {
     "data": {
      "text/plain": [
       "600271"
      ]
     },
     "execution_count": 52,
     "metadata": {},
     "output_type": "execute_result"
    }
   ],
   "source": [
    "flights_january_2020[\"ARR_TIME\"].value_counts().sum()  "
   ]
  },
  {
   "cell_type": "code",
   "execution_count": 53,
   "metadata": {
    "ExecuteTime": {
     "end_time": "2020-07-02T11:54:16.291219Z",
     "start_time": "2020-07-02T11:54:16.280492Z"
    }
   },
   "outputs": [
    {
     "data": {
      "text/plain": [
       "7075"
      ]
     },
     "execution_count": 53,
     "metadata": {},
     "output_type": "execute_result"
    }
   ],
   "source": [
    "flights_january_2020[\"ARR_TIME\"].isnull().sum()"
   ]
  },
  {
   "cell_type": "code",
   "execution_count": 54,
   "metadata": {
    "ExecuteTime": {
     "end_time": "2020-07-02T11:54:16.305723Z",
     "start_time": "2020-07-02T11:54:16.293626Z"
    }
   },
   "outputs": [],
   "source": [
    "flights_january_2020[\"ARR_TIME\"].dropna(inplace= True)"
   ]
  },
  {
   "cell_type": "code",
   "execution_count": 55,
   "metadata": {
    "ExecuteTime": {
     "end_time": "2020-07-02T11:54:16.327983Z",
     "start_time": "2020-07-02T11:54:16.308507Z"
    }
   },
   "outputs": [
    {
     "data": {
      "text/plain": [
       "599268"
      ]
     },
     "execution_count": 55,
     "metadata": {},
     "output_type": "execute_result"
    }
   ],
   "source": [
    "flights_january_2020[\"ARR_DEL15\"].value_counts().sum() "
   ]
  },
  {
   "cell_type": "code",
   "execution_count": 56,
   "metadata": {
    "ExecuteTime": {
     "end_time": "2020-07-02T11:54:16.347988Z",
     "start_time": "2020-07-02T11:54:16.337076Z"
    }
   },
   "outputs": [
    {
     "data": {
      "text/plain": [
       "8078"
      ]
     },
     "execution_count": 56,
     "metadata": {},
     "output_type": "execute_result"
    }
   ],
   "source": [
    "flights_january_2020[\"ARR_DEL15\"].isnull().sum()"
   ]
  },
  {
   "cell_type": "code",
   "execution_count": 57,
   "metadata": {
    "ExecuteTime": {
     "end_time": "2020-07-02T11:54:16.370030Z",
     "start_time": "2020-07-02T11:54:16.351590Z"
    }
   },
   "outputs": [],
   "source": [
    "flights_january_2020[\"ARR_DEL15\"].dropna(inplace= True)"
   ]
  },
  {
   "cell_type": "code",
   "execution_count": 58,
   "metadata": {
    "ExecuteTime": {
     "end_time": "2020-07-02T11:54:16.384058Z",
     "start_time": "2020-07-02T11:54:16.373458Z"
    }
   },
   "outputs": [
    {
     "data": {
      "text/plain": [
       "0"
      ]
     },
     "execution_count": 58,
     "metadata": {},
     "output_type": "execute_result"
    }
   ],
   "source": [
    "flights_january_2020[\"ARR_DEL15\"].isnull().sum()"
   ]
  },
  {
   "cell_type": "code",
   "execution_count": 59,
   "metadata": {
    "ExecuteTime": {
     "end_time": "2020-07-02T11:54:16.418700Z",
     "start_time": "2020-07-02T11:54:16.386276Z"
    }
   },
   "outputs": [
    {
     "data": {
      "text/plain": [
       "0.0    600418\n",
       "1.0      6928\n",
       "Name: CANCELLED, dtype: int64"
      ]
     },
     "execution_count": 59,
     "metadata": {},
     "output_type": "execute_result"
    }
   ],
   "source": [
    "flights_january_2020[\"CANCELLED\"].value_counts()"
   ]
  },
  {
   "cell_type": "code",
   "execution_count": 60,
   "metadata": {
    "ExecuteTime": {
     "end_time": "2020-07-02T11:54:16.433357Z",
     "start_time": "2020-07-02T11:54:16.423440Z"
    }
   },
   "outputs": [
    {
     "data": {
      "text/plain": [
       "0"
      ]
     },
     "execution_count": 60,
     "metadata": {},
     "output_type": "execute_result"
    }
   ],
   "source": [
    "flights_january_2020[\"CANCELLED\"].isnull().sum()"
   ]
  },
  {
   "cell_type": "code",
   "execution_count": 61,
   "metadata": {
    "ExecuteTime": {
     "end_time": "2020-07-02T11:54:16.459447Z",
     "start_time": "2020-07-02T11:54:16.435897Z"
    }
   },
   "outputs": [
    {
     "data": {
      "text/plain": [
       "0.0    606196\n",
       "1.0      1150\n",
       "Name: DIVERTED, dtype: int64"
      ]
     },
     "execution_count": 61,
     "metadata": {},
     "output_type": "execute_result"
    }
   ],
   "source": [
    "flights_january_2020[\"DIVERTED\"].value_counts()"
   ]
  },
  {
   "cell_type": "code",
   "execution_count": 62,
   "metadata": {
    "ExecuteTime": {
     "end_time": "2020-07-02T11:54:16.473046Z",
     "start_time": "2020-07-02T11:54:16.461860Z"
    }
   },
   "outputs": [
    {
     "data": {
      "text/plain": [
       "0"
      ]
     },
     "execution_count": 62,
     "metadata": {},
     "output_type": "execute_result"
    }
   ],
   "source": [
    "flights_january_2020[\"DIVERTED\"].isnull().sum()"
   ]
  },
  {
   "cell_type": "code",
   "execution_count": 63,
   "metadata": {
    "ExecuteTime": {
     "end_time": "2020-07-02T11:54:16.522881Z",
     "start_time": "2020-07-02T11:54:16.476063Z"
    }
   },
   "outputs": [
    {
     "data": {
      "text/plain": [
       "337.0     3895\n",
       "296.0     2899\n",
       "399.0     2774\n",
       "733.0     2507\n",
       "214.0     2382\n",
       "404.0     2369\n",
       "867.0     2365\n",
       "612.0     2345\n",
       "335.0     2327\n",
       "236.0     2311\n",
       "328.0     2262\n",
       "594.0     2199\n",
       "447.0     2174\n",
       "862.0     2112\n",
       "588.0     2111\n",
       "2475.0    2047\n",
       "224.0     2039\n",
       "651.0     2022\n",
       "507.0     1946\n",
       "304.0     1933\n",
       "184.0     1930\n",
       "937.0     1921\n",
       "406.0     1917\n",
       "100.0     1887\n",
       "280.0     1845\n",
       "925.0     1811\n",
       "391.0     1807\n",
       "223.0     1746\n",
       "192.0     1738\n",
       "762.0     1729\n",
       "          ... \n",
       "2421.0       8\n",
       "176.0        8\n",
       "2070.0       8\n",
       "2438.0       8\n",
       "705.0        7\n",
       "578.0        6\n",
       "1894.0       6\n",
       "2395.0       6\n",
       "1405.0       6\n",
       "2110.0       6\n",
       "1528.0       6\n",
       "1059.0       6\n",
       "1693.0       5\n",
       "608.0        4\n",
       "778.0        4\n",
       "741.0        4\n",
       "527.0        4\n",
       "1451.0       4\n",
       "497.0        4\n",
       "1933.0       4\n",
       "2559.0       3\n",
       "1887.0       2\n",
       "1248.0       2\n",
       "1791.0       2\n",
       "923.0        2\n",
       "1884.0       2\n",
       "747.0        2\n",
       "2557.0       1\n",
       "186.0        1\n",
       "881.0        1\n",
       "Name: DISTANCE, Length: 1471, dtype: int64"
      ]
     },
     "execution_count": 63,
     "metadata": {},
     "output_type": "execute_result"
    }
   ],
   "source": [
    "flights_january_2020[\"DISTANCE\"].value_counts()"
   ]
  },
  {
   "cell_type": "code",
   "execution_count": 71,
   "metadata": {
    "ExecuteTime": {
     "end_time": "2020-07-02T11:57:53.088990Z",
     "start_time": "2020-07-02T11:57:53.079907Z"
    }
   },
   "outputs": [
    {
     "data": {
      "text/plain": [
       "0"
      ]
     },
     "execution_count": 71,
     "metadata": {},
     "output_type": "execute_result"
    }
   ],
   "source": [
    "flights_january_2020[\"DISTANCE\"].isnull().sum()"
   ]
  },
  {
   "cell_type": "markdown",
   "metadata": {
    "ExecuteTime": {
     "end_time": "2020-07-02T11:54:16.940682Z",
     "start_time": "2020-07-02T11:54:16.538343Z"
    }
   },
   "source": [
    "I will drop the columns \"Unnamed: 21\" becouse there is not much information about it \n"
   ]
  },
  {
   "cell_type": "code",
   "execution_count": 72,
   "metadata": {
    "ExecuteTime": {
     "end_time": "2020-07-02T11:58:12.510657Z",
     "start_time": "2020-07-02T11:58:12.503087Z"
    }
   },
   "outputs": [
    {
     "data": {
      "text/plain": [
       "<bound method Series.drop of 0        NaN\n",
       "1        NaN\n",
       "2        NaN\n",
       "3        NaN\n",
       "4        NaN\n",
       "5        NaN\n",
       "6        NaN\n",
       "7        NaN\n",
       "8        NaN\n",
       "9        NaN\n",
       "10       NaN\n",
       "11       NaN\n",
       "12       NaN\n",
       "13       NaN\n",
       "14       NaN\n",
       "15       NaN\n",
       "16       NaN\n",
       "17       NaN\n",
       "18       NaN\n",
       "19       NaN\n",
       "20       NaN\n",
       "21       NaN\n",
       "22       NaN\n",
       "23       NaN\n",
       "24       NaN\n",
       "25       NaN\n",
       "26       NaN\n",
       "27       NaN\n",
       "28       NaN\n",
       "29       NaN\n",
       "          ..\n",
       "607316   NaN\n",
       "607317   NaN\n",
       "607318   NaN\n",
       "607319   NaN\n",
       "607320   NaN\n",
       "607321   NaN\n",
       "607322   NaN\n",
       "607323   NaN\n",
       "607324   NaN\n",
       "607325   NaN\n",
       "607326   NaN\n",
       "607327   NaN\n",
       "607328   NaN\n",
       "607329   NaN\n",
       "607330   NaN\n",
       "607331   NaN\n",
       "607332   NaN\n",
       "607333   NaN\n",
       "607334   NaN\n",
       "607335   NaN\n",
       "607336   NaN\n",
       "607337   NaN\n",
       "607338   NaN\n",
       "607339   NaN\n",
       "607340   NaN\n",
       "607341   NaN\n",
       "607342   NaN\n",
       "607343   NaN\n",
       "607344   NaN\n",
       "607345   NaN\n",
       "Name: Unnamed: 21, Length: 607346, dtype: float64>"
      ]
     },
     "execution_count": 72,
     "metadata": {},
     "output_type": "execute_result"
    }
   ],
   "source": [
    "flights_january_2020[\"Unnamed: 21\"].drop"
   ]
  },
  {
   "cell_type": "code",
   "execution_count": 73,
   "metadata": {
    "ExecuteTime": {
     "end_time": "2020-07-02T12:00:31.761727Z",
     "start_time": "2020-07-02T12:00:31.735775Z"
    }
   },
   "outputs": [],
   "source": [
    "del flights_january_2020['Unnamed: 21']"
   ]
  },
  {
   "cell_type": "code",
   "execution_count": 75,
   "metadata": {
    "ExecuteTime": {
     "end_time": "2020-07-02T12:00:54.181850Z",
     "start_time": "2020-07-02T12:00:54.151718Z"
    }
   },
   "outputs": [
    {
     "data": {
      "text/html": [
       "<div>\n",
       "<style scoped>\n",
       "    .dataframe tbody tr th:only-of-type {\n",
       "        vertical-align: middle;\n",
       "    }\n",
       "\n",
       "    .dataframe tbody tr th {\n",
       "        vertical-align: top;\n",
       "    }\n",
       "\n",
       "    .dataframe thead th {\n",
       "        text-align: right;\n",
       "    }\n",
       "</style>\n",
       "<table border=\"1\" class=\"dataframe\">\n",
       "  <thead>\n",
       "    <tr style=\"text-align: right;\">\n",
       "      <th></th>\n",
       "      <th>DAY_OF_MONTH</th>\n",
       "      <th>DAY_OF_WEEK</th>\n",
       "      <th>OP_UNIQUE_CARRIER</th>\n",
       "      <th>OP_CARRIER_AIRLINE_ID</th>\n",
       "      <th>OP_CARRIER</th>\n",
       "      <th>TAIL_NUM</th>\n",
       "      <th>OP_CARRIER_FL_NUM</th>\n",
       "      <th>ORIGIN_AIRPORT_ID</th>\n",
       "      <th>ORIGIN_AIRPORT_SEQ_ID</th>\n",
       "      <th>ORIGIN</th>\n",
       "      <th>...</th>\n",
       "      <th>DEST_AIRPORT_SEQ_ID</th>\n",
       "      <th>DEST</th>\n",
       "      <th>DEP_TIME</th>\n",
       "      <th>DEP_DEL15</th>\n",
       "      <th>DEP_TIME_BLK</th>\n",
       "      <th>ARR_TIME</th>\n",
       "      <th>ARR_DEL15</th>\n",
       "      <th>CANCELLED</th>\n",
       "      <th>DIVERTED</th>\n",
       "      <th>DISTANCE</th>\n",
       "    </tr>\n",
       "  </thead>\n",
       "  <tbody>\n",
       "    <tr>\n",
       "      <th>0</th>\n",
       "      <td>1</td>\n",
       "      <td>3</td>\n",
       "      <td>EV</td>\n",
       "      <td>20366</td>\n",
       "      <td>EV</td>\n",
       "      <td>N48901</td>\n",
       "      <td>4397</td>\n",
       "      <td>13930</td>\n",
       "      <td>1393007</td>\n",
       "      <td>ORD</td>\n",
       "      <td>...</td>\n",
       "      <td>1197705</td>\n",
       "      <td>GRB</td>\n",
       "      <td>1003.0</td>\n",
       "      <td>0.0</td>\n",
       "      <td>1000-1059</td>\n",
       "      <td>1117.0</td>\n",
       "      <td>0.0</td>\n",
       "      <td>0.0</td>\n",
       "      <td>0.0</td>\n",
       "      <td>174.0</td>\n",
       "    </tr>\n",
       "    <tr>\n",
       "      <th>1</th>\n",
       "      <td>1</td>\n",
       "      <td>3</td>\n",
       "      <td>EV</td>\n",
       "      <td>20366</td>\n",
       "      <td>EV</td>\n",
       "      <td>N16976</td>\n",
       "      <td>4401</td>\n",
       "      <td>15370</td>\n",
       "      <td>1537002</td>\n",
       "      <td>TUL</td>\n",
       "      <td>...</td>\n",
       "      <td>1393007</td>\n",
       "      <td>ORD</td>\n",
       "      <td>1027.0</td>\n",
       "      <td>0.0</td>\n",
       "      <td>1000-1059</td>\n",
       "      <td>1216.0</td>\n",
       "      <td>0.0</td>\n",
       "      <td>0.0</td>\n",
       "      <td>0.0</td>\n",
       "      <td>585.0</td>\n",
       "    </tr>\n",
       "    <tr>\n",
       "      <th>2</th>\n",
       "      <td>1</td>\n",
       "      <td>3</td>\n",
       "      <td>EV</td>\n",
       "      <td>20366</td>\n",
       "      <td>EV</td>\n",
       "      <td>N12167</td>\n",
       "      <td>4404</td>\n",
       "      <td>11618</td>\n",
       "      <td>1161802</td>\n",
       "      <td>EWR</td>\n",
       "      <td>...</td>\n",
       "      <td>1541205</td>\n",
       "      <td>TYS</td>\n",
       "      <td>1848.0</td>\n",
       "      <td>0.0</td>\n",
       "      <td>1800-1859</td>\n",
       "      <td>2120.0</td>\n",
       "      <td>0.0</td>\n",
       "      <td>0.0</td>\n",
       "      <td>0.0</td>\n",
       "      <td>631.0</td>\n",
       "    </tr>\n",
       "    <tr>\n",
       "      <th>3</th>\n",
       "      <td>1</td>\n",
       "      <td>3</td>\n",
       "      <td>EV</td>\n",
       "      <td>20366</td>\n",
       "      <td>EV</td>\n",
       "      <td>N14902</td>\n",
       "      <td>4405</td>\n",
       "      <td>10781</td>\n",
       "      <td>1078105</td>\n",
       "      <td>BTR</td>\n",
       "      <td>...</td>\n",
       "      <td>1226603</td>\n",
       "      <td>IAH</td>\n",
       "      <td>1846.0</td>\n",
       "      <td>0.0</td>\n",
       "      <td>1800-1859</td>\n",
       "      <td>2004.0</td>\n",
       "      <td>0.0</td>\n",
       "      <td>0.0</td>\n",
       "      <td>0.0</td>\n",
       "      <td>253.0</td>\n",
       "    </tr>\n",
       "    <tr>\n",
       "      <th>4</th>\n",
       "      <td>1</td>\n",
       "      <td>3</td>\n",
       "      <td>EV</td>\n",
       "      <td>20366</td>\n",
       "      <td>EV</td>\n",
       "      <td>N606UX</td>\n",
       "      <td>4407</td>\n",
       "      <td>14524</td>\n",
       "      <td>1452401</td>\n",
       "      <td>RIC</td>\n",
       "      <td>...</td>\n",
       "      <td>1226603</td>\n",
       "      <td>IAH</td>\n",
       "      <td>1038.0</td>\n",
       "      <td>0.0</td>\n",
       "      <td>1000-1059</td>\n",
       "      <td>1330.0</td>\n",
       "      <td>0.0</td>\n",
       "      <td>0.0</td>\n",
       "      <td>0.0</td>\n",
       "      <td>1157.0</td>\n",
       "    </tr>\n",
       "  </tbody>\n",
       "</table>\n",
       "<p>5 rows × 21 columns</p>\n",
       "</div>"
      ],
      "text/plain": [
       "   DAY_OF_MONTH  DAY_OF_WEEK OP_UNIQUE_CARRIER  OP_CARRIER_AIRLINE_ID  \\\n",
       "0             1            3                EV                  20366   \n",
       "1             1            3                EV                  20366   \n",
       "2             1            3                EV                  20366   \n",
       "3             1            3                EV                  20366   \n",
       "4             1            3                EV                  20366   \n",
       "\n",
       "  OP_CARRIER TAIL_NUM  OP_CARRIER_FL_NUM  ORIGIN_AIRPORT_ID  \\\n",
       "0         EV   N48901               4397              13930   \n",
       "1         EV   N16976               4401              15370   \n",
       "2         EV   N12167               4404              11618   \n",
       "3         EV   N14902               4405              10781   \n",
       "4         EV   N606UX               4407              14524   \n",
       "\n",
       "   ORIGIN_AIRPORT_SEQ_ID ORIGIN    ...     DEST_AIRPORT_SEQ_ID  DEST DEP_TIME  \\\n",
       "0                1393007    ORD    ...                 1197705   GRB   1003.0   \n",
       "1                1537002    TUL    ...                 1393007   ORD   1027.0   \n",
       "2                1161802    EWR    ...                 1541205   TYS   1848.0   \n",
       "3                1078105    BTR    ...                 1226603   IAH   1846.0   \n",
       "4                1452401    RIC    ...                 1226603   IAH   1038.0   \n",
       "\n",
       "   DEP_DEL15  DEP_TIME_BLK ARR_TIME  ARR_DEL15  CANCELLED  DIVERTED  DISTANCE  \n",
       "0        0.0     1000-1059   1117.0        0.0        0.0       0.0     174.0  \n",
       "1        0.0     1000-1059   1216.0        0.0        0.0       0.0     585.0  \n",
       "2        0.0     1800-1859   2120.0        0.0        0.0       0.0     631.0  \n",
       "3        0.0     1800-1859   2004.0        0.0        0.0       0.0     253.0  \n",
       "4        0.0     1000-1059   1330.0        0.0        0.0       0.0    1157.0  \n",
       "\n",
       "[5 rows x 21 columns]"
      ]
     },
     "execution_count": 75,
     "metadata": {},
     "output_type": "execute_result"
    }
   ],
   "source": [
    "flights_january_2020.head()"
   ]
  },
  {
   "cell_type": "code",
   "execution_count": null,
   "metadata": {},
   "outputs": [],
   "source": []
  }
 ],
 "metadata": {
  "kernelspec": {
   "display_name": "Python [conda env:learn-env] *",
   "language": "python",
   "name": "conda-env-learn-env-py"
  },
  "language_info": {
   "codemirror_mode": {
    "name": "ipython",
    "version": 3
   },
   "file_extension": ".py",
   "mimetype": "text/x-python",
   "name": "python",
   "nbconvert_exporter": "python",
   "pygments_lexer": "ipython3",
   "version": "3.6.6"
  }
 },
 "nbformat": 4,
 "nbformat_minor": 2
}
