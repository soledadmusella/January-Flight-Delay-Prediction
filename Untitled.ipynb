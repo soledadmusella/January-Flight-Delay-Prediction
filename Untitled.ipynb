{
 "cells": [
  {
   "cell_type": "markdown",
   "metadata": {},
   "source": [
    "# JANUARY FLIGHT DELAY PREDICTION"
   ]
  },
  {
   "cell_type": "code",
   "execution_count": 1,
   "metadata": {
    "ExecuteTime": {
     "end_time": "2020-07-02T10:44:17.167635Z",
     "start_time": "2020-07-02T10:44:16.145026Z"
    }
   },
   "outputs": [],
   "source": [
    "%matplotlib inline\n",
    "import pandas as pd\n",
    "import numpy as np\n",
    "from scipy import stats\n",
    "import seaborn as sns\n",
    "import matplotlib.pyplot as plt\n",
    "from matplotlib import pyplot"
   ]
  },
  {
   "cell_type": "code",
   "execution_count": 2,
   "metadata": {
    "ExecuteTime": {
     "end_time": "2020-07-02T10:44:18.954627Z",
     "start_time": "2020-07-02T10:44:17.171004Z"
    }
   },
   "outputs": [],
   "source": [
    "flights_january_2019 = pd.read_csv(\"/Users/soledadmusella/Desktop/january/Jan_2019.csv\")"
   ]
  },
  {
   "cell_type": "code",
   "execution_count": 3,
   "metadata": {
    "ExecuteTime": {
     "end_time": "2020-07-02T10:44:19.003327Z",
     "start_time": "2020-07-02T10:44:18.957027Z"
    }
   },
   "outputs": [
    {
     "data": {
      "text/html": [
       "<div>\n",
       "<style scoped>\n",
       "    .dataframe tbody tr th:only-of-type {\n",
       "        vertical-align: middle;\n",
       "    }\n",
       "\n",
       "    .dataframe tbody tr th {\n",
       "        vertical-align: top;\n",
       "    }\n",
       "\n",
       "    .dataframe thead th {\n",
       "        text-align: right;\n",
       "    }\n",
       "</style>\n",
       "<table border=\"1\" class=\"dataframe\">\n",
       "  <thead>\n",
       "    <tr style=\"text-align: right;\">\n",
       "      <th></th>\n",
       "      <th>DAY_OF_MONTH</th>\n",
       "      <th>DAY_OF_WEEK</th>\n",
       "      <th>OP_UNIQUE_CARRIER</th>\n",
       "      <th>OP_CARRIER_AIRLINE_ID</th>\n",
       "      <th>OP_CARRIER</th>\n",
       "      <th>TAIL_NUM</th>\n",
       "      <th>OP_CARRIER_FL_NUM</th>\n",
       "      <th>ORIGIN_AIRPORT_ID</th>\n",
       "      <th>ORIGIN_AIRPORT_SEQ_ID</th>\n",
       "      <th>ORIGIN</th>\n",
       "      <th>...</th>\n",
       "      <th>DEST</th>\n",
       "      <th>DEP_TIME</th>\n",
       "      <th>DEP_DEL15</th>\n",
       "      <th>DEP_TIME_BLK</th>\n",
       "      <th>ARR_TIME</th>\n",
       "      <th>ARR_DEL15</th>\n",
       "      <th>CANCELLED</th>\n",
       "      <th>DIVERTED</th>\n",
       "      <th>DISTANCE</th>\n",
       "      <th>Unnamed: 21</th>\n",
       "    </tr>\n",
       "  </thead>\n",
       "  <tbody>\n",
       "    <tr>\n",
       "      <th>0</th>\n",
       "      <td>1</td>\n",
       "      <td>2</td>\n",
       "      <td>9E</td>\n",
       "      <td>20363</td>\n",
       "      <td>9E</td>\n",
       "      <td>N8688C</td>\n",
       "      <td>3280</td>\n",
       "      <td>11953</td>\n",
       "      <td>1195302</td>\n",
       "      <td>GNV</td>\n",
       "      <td>...</td>\n",
       "      <td>ATL</td>\n",
       "      <td>601.0</td>\n",
       "      <td>0.0</td>\n",
       "      <td>0600-0659</td>\n",
       "      <td>722.0</td>\n",
       "      <td>0.0</td>\n",
       "      <td>0.0</td>\n",
       "      <td>0.0</td>\n",
       "      <td>300.0</td>\n",
       "      <td>NaN</td>\n",
       "    </tr>\n",
       "    <tr>\n",
       "      <th>1</th>\n",
       "      <td>1</td>\n",
       "      <td>2</td>\n",
       "      <td>9E</td>\n",
       "      <td>20363</td>\n",
       "      <td>9E</td>\n",
       "      <td>N348PQ</td>\n",
       "      <td>3281</td>\n",
       "      <td>13487</td>\n",
       "      <td>1348702</td>\n",
       "      <td>MSP</td>\n",
       "      <td>...</td>\n",
       "      <td>CVG</td>\n",
       "      <td>1359.0</td>\n",
       "      <td>0.0</td>\n",
       "      <td>1400-1459</td>\n",
       "      <td>1633.0</td>\n",
       "      <td>0.0</td>\n",
       "      <td>0.0</td>\n",
       "      <td>0.0</td>\n",
       "      <td>596.0</td>\n",
       "      <td>NaN</td>\n",
       "    </tr>\n",
       "    <tr>\n",
       "      <th>2</th>\n",
       "      <td>1</td>\n",
       "      <td>2</td>\n",
       "      <td>9E</td>\n",
       "      <td>20363</td>\n",
       "      <td>9E</td>\n",
       "      <td>N8896A</td>\n",
       "      <td>3282</td>\n",
       "      <td>11433</td>\n",
       "      <td>1143302</td>\n",
       "      <td>DTW</td>\n",
       "      <td>...</td>\n",
       "      <td>CVG</td>\n",
       "      <td>1215.0</td>\n",
       "      <td>0.0</td>\n",
       "      <td>1200-1259</td>\n",
       "      <td>1329.0</td>\n",
       "      <td>0.0</td>\n",
       "      <td>0.0</td>\n",
       "      <td>0.0</td>\n",
       "      <td>229.0</td>\n",
       "      <td>NaN</td>\n",
       "    </tr>\n",
       "    <tr>\n",
       "      <th>3</th>\n",
       "      <td>1</td>\n",
       "      <td>2</td>\n",
       "      <td>9E</td>\n",
       "      <td>20363</td>\n",
       "      <td>9E</td>\n",
       "      <td>N8886A</td>\n",
       "      <td>3283</td>\n",
       "      <td>15249</td>\n",
       "      <td>1524906</td>\n",
       "      <td>TLH</td>\n",
       "      <td>...</td>\n",
       "      <td>ATL</td>\n",
       "      <td>1521.0</td>\n",
       "      <td>0.0</td>\n",
       "      <td>1500-1559</td>\n",
       "      <td>1625.0</td>\n",
       "      <td>0.0</td>\n",
       "      <td>0.0</td>\n",
       "      <td>0.0</td>\n",
       "      <td>223.0</td>\n",
       "      <td>NaN</td>\n",
       "    </tr>\n",
       "    <tr>\n",
       "      <th>4</th>\n",
       "      <td>1</td>\n",
       "      <td>2</td>\n",
       "      <td>9E</td>\n",
       "      <td>20363</td>\n",
       "      <td>9E</td>\n",
       "      <td>N8974C</td>\n",
       "      <td>3284</td>\n",
       "      <td>10397</td>\n",
       "      <td>1039707</td>\n",
       "      <td>ATL</td>\n",
       "      <td>...</td>\n",
       "      <td>FSM</td>\n",
       "      <td>1847.0</td>\n",
       "      <td>0.0</td>\n",
       "      <td>1900-1959</td>\n",
       "      <td>1940.0</td>\n",
       "      <td>0.0</td>\n",
       "      <td>0.0</td>\n",
       "      <td>0.0</td>\n",
       "      <td>579.0</td>\n",
       "      <td>NaN</td>\n",
       "    </tr>\n",
       "  </tbody>\n",
       "</table>\n",
       "<p>5 rows × 22 columns</p>\n",
       "</div>"
      ],
      "text/plain": [
       "   DAY_OF_MONTH  DAY_OF_WEEK OP_UNIQUE_CARRIER  OP_CARRIER_AIRLINE_ID  \\\n",
       "0             1            2                9E                  20363   \n",
       "1             1            2                9E                  20363   \n",
       "2             1            2                9E                  20363   \n",
       "3             1            2                9E                  20363   \n",
       "4             1            2                9E                  20363   \n",
       "\n",
       "  OP_CARRIER TAIL_NUM  OP_CARRIER_FL_NUM  ORIGIN_AIRPORT_ID  \\\n",
       "0         9E   N8688C               3280              11953   \n",
       "1         9E   N348PQ               3281              13487   \n",
       "2         9E   N8896A               3282              11433   \n",
       "3         9E   N8886A               3283              15249   \n",
       "4         9E   N8974C               3284              10397   \n",
       "\n",
       "   ORIGIN_AIRPORT_SEQ_ID ORIGIN     ...       DEST  DEP_TIME DEP_DEL15  \\\n",
       "0                1195302    GNV     ...        ATL     601.0       0.0   \n",
       "1                1348702    MSP     ...        CVG    1359.0       0.0   \n",
       "2                1143302    DTW     ...        CVG    1215.0       0.0   \n",
       "3                1524906    TLH     ...        ATL    1521.0       0.0   \n",
       "4                1039707    ATL     ...        FSM    1847.0       0.0   \n",
       "\n",
       "   DEP_TIME_BLK  ARR_TIME ARR_DEL15  CANCELLED  DIVERTED  DISTANCE  \\\n",
       "0     0600-0659     722.0       0.0        0.0       0.0     300.0   \n",
       "1     1400-1459    1633.0       0.0        0.0       0.0     596.0   \n",
       "2     1200-1259    1329.0       0.0        0.0       0.0     229.0   \n",
       "3     1500-1559    1625.0       0.0        0.0       0.0     223.0   \n",
       "4     1900-1959    1940.0       0.0        0.0       0.0     579.0   \n",
       "\n",
       "   Unnamed: 21  \n",
       "0          NaN  \n",
       "1          NaN  \n",
       "2          NaN  \n",
       "3          NaN  \n",
       "4          NaN  \n",
       "\n",
       "[5 rows x 22 columns]"
      ]
     },
     "execution_count": 3,
     "metadata": {},
     "output_type": "execute_result"
    }
   ],
   "source": [
    "flights_january_2019.head()"
   ]
  },
  {
   "cell_type": "code",
   "execution_count": 4,
   "metadata": {
    "ExecuteTime": {
     "end_time": "2020-07-02T10:44:19.016496Z",
     "start_time": "2020-07-02T10:44:19.007985Z"
    }
   },
   "outputs": [
    {
     "data": {
      "text/plain": [
       "Index(['DAY_OF_MONTH', 'DAY_OF_WEEK', 'OP_UNIQUE_CARRIER',\n",
       "       'OP_CARRIER_AIRLINE_ID', 'OP_CARRIER', 'TAIL_NUM', 'OP_CARRIER_FL_NUM',\n",
       "       'ORIGIN_AIRPORT_ID', 'ORIGIN_AIRPORT_SEQ_ID', 'ORIGIN',\n",
       "       'DEST_AIRPORT_ID', 'DEST_AIRPORT_SEQ_ID', 'DEST', 'DEP_TIME',\n",
       "       'DEP_DEL15', 'DEP_TIME_BLK', 'ARR_TIME', 'ARR_DEL15', 'CANCELLED',\n",
       "       'DIVERTED', 'DISTANCE', 'Unnamed: 21'],\n",
       "      dtype='object')"
      ]
     },
     "execution_count": 4,
     "metadata": {},
     "output_type": "execute_result"
    }
   ],
   "source": [
    "flights_january_2019.columns"
   ]
  },
  {
   "cell_type": "code",
   "execution_count": 5,
   "metadata": {
    "ExecuteTime": {
     "end_time": "2020-07-02T10:44:19.064037Z",
     "start_time": "2020-07-02T10:44:19.041449Z"
    }
   },
   "outputs": [
    {
     "data": {
      "text/plain": [
       "(583985, 22)"
      ]
     },
     "execution_count": 5,
     "metadata": {},
     "output_type": "execute_result"
    }
   ],
   "source": [
    "flights_january_2019.shape"
   ]
  },
  {
   "cell_type": "code",
   "execution_count": 6,
   "metadata": {
    "ExecuteTime": {
     "end_time": "2020-07-02T10:44:21.021172Z",
     "start_time": "2020-07-02T10:44:19.070688Z"
    }
   },
   "outputs": [],
   "source": [
    "flights_january_2020 = pd.read_csv(\"/Users/soledadmusella/Desktop/january/Jan_2020.csv\")"
   ]
  },
  {
   "cell_type": "code",
   "execution_count": 7,
   "metadata": {
    "ExecuteTime": {
     "end_time": "2020-07-02T10:44:21.065138Z",
     "start_time": "2020-07-02T10:44:21.025492Z"
    }
   },
   "outputs": [
    {
     "data": {
      "text/html": [
       "<div>\n",
       "<style scoped>\n",
       "    .dataframe tbody tr th:only-of-type {\n",
       "        vertical-align: middle;\n",
       "    }\n",
       "\n",
       "    .dataframe tbody tr th {\n",
       "        vertical-align: top;\n",
       "    }\n",
       "\n",
       "    .dataframe thead th {\n",
       "        text-align: right;\n",
       "    }\n",
       "</style>\n",
       "<table border=\"1\" class=\"dataframe\">\n",
       "  <thead>\n",
       "    <tr style=\"text-align: right;\">\n",
       "      <th></th>\n",
       "      <th>DAY_OF_MONTH</th>\n",
       "      <th>DAY_OF_WEEK</th>\n",
       "      <th>OP_UNIQUE_CARRIER</th>\n",
       "      <th>OP_CARRIER_AIRLINE_ID</th>\n",
       "      <th>OP_CARRIER</th>\n",
       "      <th>TAIL_NUM</th>\n",
       "      <th>OP_CARRIER_FL_NUM</th>\n",
       "      <th>ORIGIN_AIRPORT_ID</th>\n",
       "      <th>ORIGIN_AIRPORT_SEQ_ID</th>\n",
       "      <th>ORIGIN</th>\n",
       "      <th>...</th>\n",
       "      <th>DEST</th>\n",
       "      <th>DEP_TIME</th>\n",
       "      <th>DEP_DEL15</th>\n",
       "      <th>DEP_TIME_BLK</th>\n",
       "      <th>ARR_TIME</th>\n",
       "      <th>ARR_DEL15</th>\n",
       "      <th>CANCELLED</th>\n",
       "      <th>DIVERTED</th>\n",
       "      <th>DISTANCE</th>\n",
       "      <th>Unnamed: 21</th>\n",
       "    </tr>\n",
       "  </thead>\n",
       "  <tbody>\n",
       "    <tr>\n",
       "      <th>0</th>\n",
       "      <td>1</td>\n",
       "      <td>3</td>\n",
       "      <td>EV</td>\n",
       "      <td>20366</td>\n",
       "      <td>EV</td>\n",
       "      <td>N48901</td>\n",
       "      <td>4397</td>\n",
       "      <td>13930</td>\n",
       "      <td>1393007</td>\n",
       "      <td>ORD</td>\n",
       "      <td>...</td>\n",
       "      <td>GRB</td>\n",
       "      <td>1003.0</td>\n",
       "      <td>0.0</td>\n",
       "      <td>1000-1059</td>\n",
       "      <td>1117.0</td>\n",
       "      <td>0.0</td>\n",
       "      <td>0.0</td>\n",
       "      <td>0.0</td>\n",
       "      <td>174.0</td>\n",
       "      <td>NaN</td>\n",
       "    </tr>\n",
       "    <tr>\n",
       "      <th>1</th>\n",
       "      <td>1</td>\n",
       "      <td>3</td>\n",
       "      <td>EV</td>\n",
       "      <td>20366</td>\n",
       "      <td>EV</td>\n",
       "      <td>N16976</td>\n",
       "      <td>4401</td>\n",
       "      <td>15370</td>\n",
       "      <td>1537002</td>\n",
       "      <td>TUL</td>\n",
       "      <td>...</td>\n",
       "      <td>ORD</td>\n",
       "      <td>1027.0</td>\n",
       "      <td>0.0</td>\n",
       "      <td>1000-1059</td>\n",
       "      <td>1216.0</td>\n",
       "      <td>0.0</td>\n",
       "      <td>0.0</td>\n",
       "      <td>0.0</td>\n",
       "      <td>585.0</td>\n",
       "      <td>NaN</td>\n",
       "    </tr>\n",
       "    <tr>\n",
       "      <th>2</th>\n",
       "      <td>1</td>\n",
       "      <td>3</td>\n",
       "      <td>EV</td>\n",
       "      <td>20366</td>\n",
       "      <td>EV</td>\n",
       "      <td>N12167</td>\n",
       "      <td>4404</td>\n",
       "      <td>11618</td>\n",
       "      <td>1161802</td>\n",
       "      <td>EWR</td>\n",
       "      <td>...</td>\n",
       "      <td>TYS</td>\n",
       "      <td>1848.0</td>\n",
       "      <td>0.0</td>\n",
       "      <td>1800-1859</td>\n",
       "      <td>2120.0</td>\n",
       "      <td>0.0</td>\n",
       "      <td>0.0</td>\n",
       "      <td>0.0</td>\n",
       "      <td>631.0</td>\n",
       "      <td>NaN</td>\n",
       "    </tr>\n",
       "    <tr>\n",
       "      <th>3</th>\n",
       "      <td>1</td>\n",
       "      <td>3</td>\n",
       "      <td>EV</td>\n",
       "      <td>20366</td>\n",
       "      <td>EV</td>\n",
       "      <td>N14902</td>\n",
       "      <td>4405</td>\n",
       "      <td>10781</td>\n",
       "      <td>1078105</td>\n",
       "      <td>BTR</td>\n",
       "      <td>...</td>\n",
       "      <td>IAH</td>\n",
       "      <td>1846.0</td>\n",
       "      <td>0.0</td>\n",
       "      <td>1800-1859</td>\n",
       "      <td>2004.0</td>\n",
       "      <td>0.0</td>\n",
       "      <td>0.0</td>\n",
       "      <td>0.0</td>\n",
       "      <td>253.0</td>\n",
       "      <td>NaN</td>\n",
       "    </tr>\n",
       "    <tr>\n",
       "      <th>4</th>\n",
       "      <td>1</td>\n",
       "      <td>3</td>\n",
       "      <td>EV</td>\n",
       "      <td>20366</td>\n",
       "      <td>EV</td>\n",
       "      <td>N606UX</td>\n",
       "      <td>4407</td>\n",
       "      <td>14524</td>\n",
       "      <td>1452401</td>\n",
       "      <td>RIC</td>\n",
       "      <td>...</td>\n",
       "      <td>IAH</td>\n",
       "      <td>1038.0</td>\n",
       "      <td>0.0</td>\n",
       "      <td>1000-1059</td>\n",
       "      <td>1330.0</td>\n",
       "      <td>0.0</td>\n",
       "      <td>0.0</td>\n",
       "      <td>0.0</td>\n",
       "      <td>1157.0</td>\n",
       "      <td>NaN</td>\n",
       "    </tr>\n",
       "  </tbody>\n",
       "</table>\n",
       "<p>5 rows × 22 columns</p>\n",
       "</div>"
      ],
      "text/plain": [
       "   DAY_OF_MONTH  DAY_OF_WEEK OP_UNIQUE_CARRIER  OP_CARRIER_AIRLINE_ID  \\\n",
       "0             1            3                EV                  20366   \n",
       "1             1            3                EV                  20366   \n",
       "2             1            3                EV                  20366   \n",
       "3             1            3                EV                  20366   \n",
       "4             1            3                EV                  20366   \n",
       "\n",
       "  OP_CARRIER TAIL_NUM  OP_CARRIER_FL_NUM  ORIGIN_AIRPORT_ID  \\\n",
       "0         EV   N48901               4397              13930   \n",
       "1         EV   N16976               4401              15370   \n",
       "2         EV   N12167               4404              11618   \n",
       "3         EV   N14902               4405              10781   \n",
       "4         EV   N606UX               4407              14524   \n",
       "\n",
       "   ORIGIN_AIRPORT_SEQ_ID ORIGIN     ...       DEST  DEP_TIME DEP_DEL15  \\\n",
       "0                1393007    ORD     ...        GRB    1003.0       0.0   \n",
       "1                1537002    TUL     ...        ORD    1027.0       0.0   \n",
       "2                1161802    EWR     ...        TYS    1848.0       0.0   \n",
       "3                1078105    BTR     ...        IAH    1846.0       0.0   \n",
       "4                1452401    RIC     ...        IAH    1038.0       0.0   \n",
       "\n",
       "   DEP_TIME_BLK  ARR_TIME ARR_DEL15  CANCELLED  DIVERTED  DISTANCE  \\\n",
       "0     1000-1059    1117.0       0.0        0.0       0.0     174.0   \n",
       "1     1000-1059    1216.0       0.0        0.0       0.0     585.0   \n",
       "2     1800-1859    2120.0       0.0        0.0       0.0     631.0   \n",
       "3     1800-1859    2004.0       0.0        0.0       0.0     253.0   \n",
       "4     1000-1059    1330.0       0.0        0.0       0.0    1157.0   \n",
       "\n",
       "   Unnamed: 21  \n",
       "0          NaN  \n",
       "1          NaN  \n",
       "2          NaN  \n",
       "3          NaN  \n",
       "4          NaN  \n",
       "\n",
       "[5 rows x 22 columns]"
      ]
     },
     "execution_count": 7,
     "metadata": {},
     "output_type": "execute_result"
    }
   ],
   "source": [
    "flights_january_2020.head()"
   ]
  },
  {
   "cell_type": "code",
   "execution_count": 8,
   "metadata": {
    "ExecuteTime": {
     "end_time": "2020-07-02T10:44:21.082581Z",
     "start_time": "2020-07-02T10:44:21.071806Z"
    }
   },
   "outputs": [
    {
     "data": {
      "text/plain": [
       "Index(['DAY_OF_MONTH', 'DAY_OF_WEEK', 'OP_UNIQUE_CARRIER',\n",
       "       'OP_CARRIER_AIRLINE_ID', 'OP_CARRIER', 'TAIL_NUM', 'OP_CARRIER_FL_NUM',\n",
       "       'ORIGIN_AIRPORT_ID', 'ORIGIN_AIRPORT_SEQ_ID', 'ORIGIN',\n",
       "       'DEST_AIRPORT_ID', 'DEST_AIRPORT_SEQ_ID', 'DEST', 'DEP_TIME',\n",
       "       'DEP_DEL15', 'DEP_TIME_BLK', 'ARR_TIME', 'ARR_DEL15', 'CANCELLED',\n",
       "       'DIVERTED', 'DISTANCE', 'Unnamed: 21'],\n",
       "      dtype='object')"
      ]
     },
     "execution_count": 8,
     "metadata": {},
     "output_type": "execute_result"
    }
   ],
   "source": [
    "flights_january_2020.columns"
   ]
  },
  {
   "cell_type": "code",
   "execution_count": 9,
   "metadata": {
    "ExecuteTime": {
     "end_time": "2020-07-02T10:44:21.117739Z",
     "start_time": "2020-07-02T10:44:21.093336Z"
    }
   },
   "outputs": [
    {
     "data": {
      "text/plain": [
       "(607346, 22)"
      ]
     },
     "execution_count": 9,
     "metadata": {},
     "output_type": "execute_result"
    }
   ],
   "source": [
    "flights_january_2020.shape"
   ]
  },
  {
   "cell_type": "markdown",
   "metadata": {},
   "source": [
    "## Data Cleaning and Data Inspecting"
   ]
  },
  {
   "cell_type": "code",
   "execution_count": 10,
   "metadata": {
    "ExecuteTime": {
     "end_time": "2020-07-02T10:44:21.149755Z",
     "start_time": "2020-07-02T10:44:21.123533Z"
    }
   },
   "outputs": [
    {
     "data": {
      "text/plain": [
       "6     20943\n",
       "10    20810\n",
       "31    20809\n",
       "24    20789\n",
       "9     20789\n",
       "17    20788\n",
       "16    20762\n",
       "30    20757\n",
       "23    20756\n",
       "5     20632\n",
       "3     20616\n",
       "2     20612\n",
       "27    20609\n",
       "13    20589\n",
       "20    20248\n",
       "26    19911\n",
       "12    19897\n",
       "29    19675\n",
       "22    19671\n",
       "8     19670\n",
       "15    19669\n",
       "21    19169\n",
       "7     19164\n",
       "14    19156\n",
       "28    19155\n",
       "1     18114\n",
       "4     18099\n",
       "19    18066\n",
       "11    16033\n",
       "25    15984\n",
       "18    15404\n",
       "Name: DAY_OF_MONTH, dtype: int64"
      ]
     },
     "execution_count": 10,
     "metadata": {},
     "output_type": "execute_result"
    }
   ],
   "source": [
    "flights_january_2020[\"DAY_OF_MONTH\"].value_counts()"
   ]
  },
  {
   "cell_type": "code",
   "execution_count": 11,
   "metadata": {
    "ExecuteTime": {
     "end_time": "2020-07-02T10:44:21.195350Z",
     "start_time": "2020-07-02T10:44:21.172548Z"
    }
   },
   "outputs": [
    {
     "data": {
      "text/plain": [
       "0"
      ]
     },
     "execution_count": 11,
     "metadata": {},
     "output_type": "execute_result"
    }
   ],
   "source": [
    "flights_january_2020[\"DAY_OF_MONTH\"].isnull().sum()"
   ]
  },
  {
   "cell_type": "code",
   "execution_count": 12,
   "metadata": {
    "ExecuteTime": {
     "end_time": "2020-07-02T10:44:21.229080Z",
     "start_time": "2020-07-02T10:44:21.205977Z"
    }
   },
   "outputs": [
    {
     "data": {
      "text/plain": [
       "5    103812\n",
       "4    103676\n",
       "3     96799\n",
       "1     82389\n",
       "7     78506\n",
       "2     76644\n",
       "6     65520\n",
       "Name: DAY_OF_WEEK, dtype: int64"
      ]
     },
     "execution_count": 12,
     "metadata": {},
     "output_type": "execute_result"
    }
   ],
   "source": [
    "flights_january_2020[\"DAY_OF_WEEK\"].value_counts()"
   ]
  },
  {
   "cell_type": "code",
   "execution_count": 13,
   "metadata": {
    "ExecuteTime": {
     "end_time": "2020-07-02T10:44:21.264575Z",
     "start_time": "2020-07-02T10:44:21.240829Z"
    }
   },
   "outputs": [
    {
     "data": {
      "text/plain": [
       "0"
      ]
     },
     "execution_count": 13,
     "metadata": {},
     "output_type": "execute_result"
    }
   ],
   "source": [
    "flights_january_2020[\"DAY_OF_WEEK\"].isnull().sum()"
   ]
  },
  {
   "cell_type": "code",
   "execution_count": 14,
   "metadata": {
    "ExecuteTime": {
     "end_time": "2020-07-02T10:44:21.406753Z",
     "start_time": "2020-07-02T10:44:21.278537Z"
    }
   },
   "outputs": [
    {
     "data": {
      "text/plain": [
       "WN    109770\n",
       "DL     80067\n",
       "AA     76276\n",
       "OO     71160\n",
       "UA     48401\n",
       "YX     29123\n",
       "MQ     26200\n",
       "B6     24709\n",
       "OH     24309\n",
       "9E     23068\n",
       "AS     21110\n",
       "YV     17836\n",
       "NK     17477\n",
       "F9     12467\n",
       "EV     10564\n",
       "G4      7774\n",
       "HA      7035\n",
       "Name: OP_UNIQUE_CARRIER, dtype: int64"
      ]
     },
     "execution_count": 14,
     "metadata": {},
     "output_type": "execute_result"
    }
   ],
   "source": [
    "flights_january_2020[\"OP_UNIQUE_CARRIER\"].value_counts()"
   ]
  },
  {
   "cell_type": "code",
   "execution_count": 15,
   "metadata": {
    "ExecuteTime": {
     "end_time": "2020-07-02T10:44:21.453162Z",
     "start_time": "2020-07-02T10:44:21.410781Z"
    }
   },
   "outputs": [
    {
     "data": {
      "text/plain": [
       "0"
      ]
     },
     "execution_count": 15,
     "metadata": {},
     "output_type": "execute_result"
    }
   ],
   "source": [
    "flights_january_2020[\"OP_UNIQUE_CARRIER\"].isnull().sum()"
   ]
  },
  {
   "cell_type": "code",
   "execution_count": 16,
   "metadata": {
    "ExecuteTime": {
     "end_time": "2020-07-02T10:44:21.477745Z",
     "start_time": "2020-07-02T10:44:21.456569Z"
    }
   },
   "outputs": [
    {
     "data": {
      "text/plain": [
       "19393    109770\n",
       "19790     80067\n",
       "19805     76276\n",
       "20304     71160\n",
       "19977     48401\n",
       "20452     29123\n",
       "20398     26200\n",
       "20409     24709\n",
       "20397     24309\n",
       "20363     23068\n",
       "19930     21110\n",
       "20378     17836\n",
       "20416     17477\n",
       "20436     12467\n",
       "20366     10564\n",
       "20368      7774\n",
       "19690      7035\n",
       "Name: OP_CARRIER_AIRLINE_ID, dtype: int64"
      ]
     },
     "execution_count": 16,
     "metadata": {},
     "output_type": "execute_result"
    }
   ],
   "source": [
    "flights_january_2020[\"OP_CARRIER_AIRLINE_ID\"].value_counts()"
   ]
  },
  {
   "cell_type": "code",
   "execution_count": 17,
   "metadata": {
    "ExecuteTime": {
     "end_time": "2020-07-02T10:44:21.529456Z",
     "start_time": "2020-07-02T10:44:21.498236Z"
    }
   },
   "outputs": [
    {
     "data": {
      "text/plain": [
       "0"
      ]
     },
     "execution_count": 17,
     "metadata": {},
     "output_type": "execute_result"
    }
   ],
   "source": [
    "flights_january_2020[\"OP_CARRIER_AIRLINE_ID\"].isnull().sum()"
   ]
  },
  {
   "cell_type": "code",
   "execution_count": 18,
   "metadata": {
    "ExecuteTime": {
     "end_time": "2020-07-02T10:44:21.653330Z",
     "start_time": "2020-07-02T10:44:21.543396Z"
    }
   },
   "outputs": [
    {
     "data": {
      "text/plain": [
       "WN    109770\n",
       "DL     80067\n",
       "AA     76276\n",
       "OO     71160\n",
       "UA     48401\n",
       "YX     29123\n",
       "MQ     26200\n",
       "B6     24709\n",
       "OH     24309\n",
       "9E     23068\n",
       "AS     21110\n",
       "YV     17836\n",
       "NK     17477\n",
       "F9     12467\n",
       "EV     10564\n",
       "G4      7774\n",
       "HA      7035\n",
       "Name: OP_CARRIER, dtype: int64"
      ]
     },
     "execution_count": 18,
     "metadata": {},
     "output_type": "execute_result"
    }
   ],
   "source": [
    "flights_january_2020[\"OP_CARRIER\"].value_counts()# Code assigned by IATA and commonly used to identify a carrier."
   ]
  },
  {
   "cell_type": "code",
   "execution_count": 19,
   "metadata": {
    "ExecuteTime": {
     "end_time": "2020-07-02T10:44:21.706229Z",
     "start_time": "2020-07-02T10:44:21.655736Z"
    }
   },
   "outputs": [
    {
     "data": {
      "text/plain": [
       "0"
      ]
     },
     "execution_count": 19,
     "metadata": {},
     "output_type": "execute_result"
    }
   ],
   "source": [
    "flights_january_2020[\"OP_CARRIER\"].isnull().sum()"
   ]
  },
  {
   "cell_type": "code",
   "execution_count": 20,
   "metadata": {
    "ExecuteTime": {
     "end_time": "2020-07-02T10:44:21.877927Z",
     "start_time": "2020-07-02T10:44:21.709644Z"
    }
   },
   "outputs": [
    {
     "data": {
      "text/plain": [
       "606648"
      ]
     },
     "execution_count": 20,
     "metadata": {},
     "output_type": "execute_result"
    }
   ],
   "source": [
    "flights_january_2020[\"TAIL_NUM\"].value_counts().sum()"
   ]
  },
  {
   "cell_type": "code",
   "execution_count": 21,
   "metadata": {
    "ExecuteTime": {
     "end_time": "2020-07-02T10:44:21.954811Z",
     "start_time": "2020-07-02T10:44:21.889909Z"
    }
   },
   "outputs": [
    {
     "data": {
      "text/plain": [
       "698"
      ]
     },
     "execution_count": 21,
     "metadata": {},
     "output_type": "execute_result"
    }
   ],
   "source": [
    "flights_january_2020[\"TAIL_NUM\"].isnull().sum()"
   ]
  },
  {
   "cell_type": "code",
   "execution_count": 22,
   "metadata": {
    "ExecuteTime": {
     "end_time": "2020-07-02T10:44:22.142801Z",
     "start_time": "2020-07-02T10:44:21.956911Z"
    }
   },
   "outputs": [],
   "source": [
    "NAN_NONE=(flights_january_2020[\"TAIL_NUM\"].isnull().sum())*100/(flights_january_2020[\"TAIL_NUM\"].value_counts().sum())"
   ]
  },
  {
   "cell_type": "code",
   "execution_count": 23,
   "metadata": {
    "ExecuteTime": {
     "end_time": "2020-07-02T10:44:22.162494Z",
     "start_time": "2020-07-02T10:44:22.144790Z"
    }
   },
   "outputs": [
    {
     "data": {
      "text/plain": [
       "0.1150584853160317"
      ]
     },
     "execution_count": 23,
     "metadata": {},
     "output_type": "execute_result"
    }
   ],
   "source": [
    "NAN_NONE"
   ]
  },
  {
   "cell_type": "markdown",
   "metadata": {},
   "source": [
    "I can see that the percentage of null values is really low 0,11% so i will drop them "
   ]
  },
  {
   "cell_type": "code",
   "execution_count": 31,
   "metadata": {
    "ExecuteTime": {
     "end_time": "2020-07-02T10:48:38.369009Z",
     "start_time": "2020-07-02T10:48:38.313976Z"
    }
   },
   "outputs": [
    {
     "data": {
      "text/plain": [
       "0         N48901\n",
       "1         N16976\n",
       "2         N12167\n",
       "3         N14902\n",
       "4         N606UX\n",
       "5         N605UX\n",
       "6         N14991\n",
       "7         N15986\n",
       "8         N603UX\n",
       "9         N13975\n",
       "10        N616UX\n",
       "11        N601UX\n",
       "12        N13979\n",
       "13        N14562\n",
       "14        N13979\n",
       "15        N13995\n",
       "16        N11192\n",
       "17        N14993\n",
       "18        N614UX\n",
       "19        N14568\n",
       "20        N16987\n",
       "21        N13995\n",
       "22        N12563\n",
       "23        N13538\n",
       "24        N16987\n",
       "25        N29906\n",
       "26        N602UX\n",
       "27        N13989\n",
       "28        N14158\n",
       "29        N14904\n",
       "           ...  \n",
       "607316    N8908D\n",
       "607317    N308PQ\n",
       "607318    N308PQ\n",
       "607319    N8918B\n",
       "607320    N8918B\n",
       "607321    N834AY\n",
       "607322    N8877A\n",
       "607323    N8894A\n",
       "607324    N8894A\n",
       "607325    N678CA\n",
       "607326    N678CA\n",
       "607327    N934XJ\n",
       "607328    N934XJ\n",
       "607329    N835AY\n",
       "607330    N147PQ\n",
       "607331    N147PQ\n",
       "607332    N605LR\n",
       "607333    N605LR\n",
       "607334    N302PQ\n",
       "607335    N929XJ\n",
       "607336    N686BR\n",
       "607337    N306PQ\n",
       "607338    N8936A\n",
       "607339    N329PQ\n",
       "607340    N909XJ\n",
       "607341    N331CA\n",
       "607342    N295PQ\n",
       "607343    N294PQ\n",
       "607344    N228PQ\n",
       "607345    N228PQ\n",
       "Name: TAIL_NUM, Length: 606648, dtype: object"
      ]
     },
     "execution_count": 31,
     "metadata": {},
     "output_type": "execute_result"
    }
   ],
   "source": [
    "flights_january_2020[\"TAIL_NUM\"].dropna()"
   ]
  },
  {
   "cell_type": "code",
   "execution_count": 33,
   "metadata": {
    "ExecuteTime": {
     "end_time": "2020-07-02T10:50:04.165935Z",
     "start_time": "2020-07-02T10:50:04.130026Z"
    }
   },
   "outputs": [
    {
     "data": {
      "text/plain": [
       "416     349\n",
       "478     340\n",
       "519     328\n",
       "403     322\n",
       "1095    311\n",
       "1226    305\n",
       "834     297\n",
       "1590    294\n",
       "1423    292\n",
       "1251    290\n",
       "261     285\n",
       "443     285\n",
       "1926    283\n",
       "1552    277\n",
       "486     275\n",
       "410     274\n",
       "1743    272\n",
       "676     271\n",
       "729     269\n",
       "927     268\n",
       "1102    266\n",
       "2074    266\n",
       "546     266\n",
       "1045    264\n",
       "1387    263\n",
       "35      261\n",
       "770     260\n",
       "301     260\n",
       "533     259\n",
       "671     258\n",
       "       ... \n",
       "6485      1\n",
       "6619      1\n",
       "6401      1\n",
       "6501      1\n",
       "6538      1\n",
       "4985      1\n",
       "6230      1\n",
       "6603      1\n",
       "6771      1\n",
       "6536      1\n",
       "6489      1\n",
       "6696      1\n",
       "6655      1\n",
       "6625      1\n",
       "6664      1\n",
       "6404      1\n",
       "6429      1\n",
       "6671      1\n",
       "6648      1\n",
       "6482      1\n",
       "6716      1\n",
       "6633      1\n",
       "6345      1\n",
       "6526      1\n",
       "6315      1\n",
       "6434      1\n",
       "6703      1\n",
       "6400      1\n",
       "6666      1\n",
       "6728      1\n",
       "Name: OP_CARRIER_FL_NUM, Length: 6720, dtype: int64"
      ]
     },
     "execution_count": 33,
     "metadata": {},
     "output_type": "execute_result"
    }
   ],
   "source": [
    "flights_january_2020[\"OP_CARRIER_FL_NUM\"].value_counts()"
   ]
  },
  {
   "cell_type": "code",
   "execution_count": 34,
   "metadata": {
    "ExecuteTime": {
     "end_time": "2020-07-02T10:50:25.749405Z",
     "start_time": "2020-07-02T10:50:25.738813Z"
    }
   },
   "outputs": [
    {
     "data": {
      "text/plain": [
       "0"
      ]
     },
     "execution_count": 34,
     "metadata": {},
     "output_type": "execute_result"
    }
   ],
   "source": [
    "flights_january_2020[\"OP_CARRIER_FL_NUM\"].isnull().sum()"
   ]
  },
  {
   "cell_type": "code",
   "execution_count": 35,
   "metadata": {
    "ExecuteTime": {
     "end_time": "2020-07-02T10:51:36.027227Z",
     "start_time": "2020-07-02T10:51:36.007884Z"
    }
   },
   "outputs": [
    {
     "data": {
      "text/plain": [
       "10397    32190\n",
       "13930    25661\n",
       "11298    24339\n",
       "11292    20398\n",
       "11057    19995\n",
       "12892    17799\n",
       "14107    15325\n",
       "12266    14792\n",
       "12889    14186\n",
       "12953    13836\n",
       "14771    13684\n",
       "11433    13195\n",
       "13204    12820\n",
       "13487    12429\n",
       "10721    12182\n",
       "14747    11583\n",
       "11278    11575\n",
       "11618    11415\n",
       "12478    10312\n",
       "14869    10196\n",
       "11697     9446\n",
       "14100     8839\n",
       "13303     8375\n",
       "10821     7886\n",
       "14679     7477\n",
       "15304     6787\n",
       "10693     6628\n",
       "11259     6167\n",
       "13232     6135\n",
       "15016     5647\n",
       "         ...  \n",
       "10918       54\n",
       "12888       54\n",
       "12129       54\n",
       "12244       54\n",
       "12917       54\n",
       "10558       54\n",
       "11447       54\n",
       "12343       53\n",
       "15582       53\n",
       "10967       53\n",
       "10170       53\n",
       "14534       51\n",
       "14955       44\n",
       "14812       37\n",
       "13121       35\n",
       "11092       31\n",
       "11233       31\n",
       "12223       27\n",
       "13964       24\n",
       "14259       20\n",
       "14905       16\n",
       "15008       13\n",
       "10562       13\n",
       "12119       12\n",
       "15454       10\n",
       "14222        9\n",
       "13983        9\n",
       "13829        9\n",
       "10165        9\n",
       "11097        1\n",
       "Name: ORIGIN_AIRPORT_ID, Length: 351, dtype: int64"
      ]
     },
     "execution_count": 35,
     "metadata": {},
     "output_type": "execute_result"
    }
   ],
   "source": [
    "flights_january_2020[\"ORIGIN_AIRPORT_ID\"].value_counts()"
   ]
  },
  {
   "cell_type": "code",
   "execution_count": 36,
   "metadata": {
    "ExecuteTime": {
     "end_time": "2020-07-02T10:51:56.451303Z",
     "start_time": "2020-07-02T10:51:56.441795Z"
    }
   },
   "outputs": [
    {
     "data": {
      "text/plain": [
       "0"
      ]
     },
     "execution_count": 36,
     "metadata": {},
     "output_type": "execute_result"
    }
   ],
   "source": [
    "flights_january_2020[\"ORIGIN_AIRPORT_ID\"].isnull().sum()"
   ]
  },
  {
   "cell_type": "code",
   "execution_count": 37,
   "metadata": {
    "ExecuteTime": {
     "end_time": "2020-07-02T10:55:03.571223Z",
     "start_time": "2020-07-02T10:55:03.546252Z"
    }
   },
   "outputs": [
    {
     "data": {
      "text/plain": [
       "1039707    32190\n",
       "1393007    25661\n",
       "1129806    24339\n",
       "1129202    20398\n",
       "1105703    19995\n",
       "1289208    17799\n",
       "1410702    15325\n",
       "1226603    14792\n",
       "1288903    14186\n",
       "1295304    13836\n",
       "1477104    13684\n",
       "1143302    13195\n",
       "1320402    12820\n",
       "1348702    12429\n",
       "1072102    12182\n",
       "1474703    11583\n",
       "1127805    11575\n",
       "1161802    11415\n",
       "1247805    10312\n",
       "1486903    10196\n",
       "1169706     9446\n",
       "1410005     8839\n",
       "1330303     8375\n",
       "1082106     7886\n",
       "1467903     7477\n",
       "1530402     6787\n",
       "1069302     6628\n",
       "1125904     6167\n",
       "1323202     6135\n",
       "1501606     5647\n",
       "           ...  \n",
       "1033302       54\n",
       "1289902       54\n",
       "1212903       54\n",
       "1144705       54\n",
       "1290205       54\n",
       "1291703       54\n",
       "1055803       54\n",
       "1096702       53\n",
       "1234305       53\n",
       "1558203       53\n",
       "1017004       53\n",
       "1453402       51\n",
       "1495503       44\n",
       "1481202       37\n",
       "1312102       35\n",
       "1109204       31\n",
       "1123302       31\n",
       "1222305       27\n",
       "1396403       24\n",
       "1425902       20\n",
       "1490505       16\n",
       "1500803       13\n",
       "1056202       13\n",
       "1211902       12\n",
       "1545405       10\n",
       "1382903        9\n",
       "1398305        9\n",
       "1422207        9\n",
       "1016506        9\n",
       "1109702        1\n",
       "Name: ORIGIN_AIRPORT_SEQ_ID, Length: 351, dtype: int64"
      ]
     },
     "execution_count": 37,
     "metadata": {},
     "output_type": "execute_result"
    }
   ],
   "source": [
    "flights_january_2020[\"ORIGIN_AIRPORT_SEQ_ID\"].value_counts()"
   ]
  },
  {
   "cell_type": "code",
   "execution_count": 38,
   "metadata": {
    "ExecuteTime": {
     "end_time": "2020-07-02T10:55:22.062921Z",
     "start_time": "2020-07-02T10:55:22.052754Z"
    }
   },
   "outputs": [
    {
     "data": {
      "text/plain": [
       "0"
      ]
     },
     "execution_count": 38,
     "metadata": {},
     "output_type": "execute_result"
    }
   ],
   "source": [
    "flights_january_2020[\"ORIGIN_AIRPORT_SEQ_ID\"].isnull().sum()"
   ]
  },
  {
   "cell_type": "code",
   "execution_count": null,
   "metadata": {},
   "outputs": [],
   "source": []
  }
 ],
 "metadata": {
  "kernelspec": {
   "display_name": "Python [conda env:learn-env] *",
   "language": "python",
   "name": "conda-env-learn-env-py"
  },
  "language_info": {
   "codemirror_mode": {
    "name": "ipython",
    "version": 3
   },
   "file_extension": ".py",
   "mimetype": "text/x-python",
   "name": "python",
   "nbconvert_exporter": "python",
   "pygments_lexer": "ipython3",
   "version": "3.6.6"
  }
 },
 "nbformat": 4,
 "nbformat_minor": 2
}
